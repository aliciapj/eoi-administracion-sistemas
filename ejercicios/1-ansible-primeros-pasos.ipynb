{
 "cells": [
  {
   "cell_type": "markdown",
   "id": "informational-great",
   "metadata": {},
   "source": [
    "# 1 - Ansible: Primeros pasos"
   ]
  },
  {
   "cell_type": "markdown",
   "id": "latter-visit",
   "metadata": {},
   "source": [
    "En este ejercicio ......."
   ]
  },
  {
   "cell_type": "markdown",
   "id": "affected-austria",
   "metadata": {},
   "source": [
    "1. Mostrar el inventario actual (estará vacío)  \n",
    "```\n",
    "$ ansible --list-hosts all\n",
    "```\n",
    "   Salida:\n",
    "```\n",
    "[WARNING]: provided hosts list is empty, only localhost is available. Note that the implicit localhost does not match 'all'\n",
    "  hosts (0):\n",
    "```"
   ]
  },
  {
   "cell_type": "markdown",
   "id": "declared-petite",
   "metadata": {},
   "source": [
    "2. Crear un fichero que se llame `inventario.txt` con el siguiente contenido:  \n",
    "```\n",
    "myserver ansible_user=192.168.33.10 ansible_connection=local\n",
    "```"
   ]
  },
  {
   "cell_type": "markdown",
   "id": "parliamentary-maria",
   "metadata": {},
   "source": [
    "3. Mostrar el inventario según el fichero que acabamos de crear:\n",
    "```bash\n",
    "$ ansible -i inventario.txt --list-hosts all\n",
    "```\n",
    "   Salida:\n",
    "```\n",
    "  hosts (1):\n",
    "    myserver\n",
    "```"
   ]
  },
  {
   "cell_type": "markdown",
   "id": "distinguished-charger",
   "metadata": {},
   "source": [
    "4. Como no queremos tener que especificar el fichero de inventario cada vez que queramos operar con Ansible, crea un fichero en el mismo directorio que se llame `ansible.cfg` con el siguiente contenido:\n",
    "```bash\n",
    "[defaults]\n",
    "inventory = ./inventario.txt\n",
    "```"
   ]
  },
  {
   "cell_type": "markdown",
   "id": "gentle-draft",
   "metadata": {},
   "source": [
    "5. Mostrar el inventario sin especificar ningún fichero:  \n",
    "```\n",
    "$ ansible --list-hosts all\n",
    "```\n",
    "   Salida:\n",
    "```\n",
    "  hosts (1):\n",
    "    myserver\n",
    "```  "
   ]
  },
  {
   "cell_type": "markdown",
   "id": "cleared-hungarian",
   "metadata": {},
   "source": [
    "6. Lanzar una tarea a todos los servidores del inventario:\n",
    "```\n",
    "$ ansible -m ping all\n",
    "```\n",
    "   Salida:\n",
    "```\n",
    "vhost-default | UNREACHABLE! => {\n",
    "    \"changed\": false,\n",
    "    \"msg\": \"Failed to connect to the host via ssh: vagrant@192.168.33.10: Permission denied (publickey,password).\",\n",
    "    \"unreachable\": true\n",
    "}\n",
    "```"
   ]
  },
  {
   "cell_type": "markdown",
   "id": "monetary-passenger",
   "metadata": {},
   "source": [
    "7. Lanzar una tarea a todos los servidores del inventario pasando por parámetro que nos pida la contraseña ssh:\n",
    "```bash\n",
    "$ ansible -m ping all --ask-pass\n",
    "```\n",
    "   Salida:\n",
    "```\n",
    "SSH password: \n",
    "[DEPRECATION WARNING]: Distribution Ubuntu 18.04 on host vhost-default should use /usr/bin/python3, but is using /usr/bin/python for backward compatibility with prior Ansible releases. A future Ansible release \n",
    "will default to using the discovered platform python for this host. See https://docs.ansible.com/ansible/2.9/reference_appendices/interpreter_discovery.html for more information. This feature will be removed in\n",
    " version 2.12. Deprecation warnings can be disabled by setting deprecation_warnings=False in ansible.cfg.\n",
    "vhost-default | SUCCESS => {\n",
    "    \"ansible_facts\": {\n",
    "        \"discovered_interpreter_python\": \"/usr/bin/python\"\n",
    "    },\n",
    "    \"changed\": false,\n",
    "    \"ping\": \"pong\"\n",
    "}\n",
    "```"
   ]
  }
 ],
 "metadata": {
  "kernelspec": {
   "display_name": "Python 3",
   "language": "python",
   "name": "python3"
  },
  "language_info": {
   "codemirror_mode": {
    "name": "ipython",
    "version": 3
   },
   "file_extension": ".py",
   "mimetype": "text/x-python",
   "name": "python",
   "nbconvert_exporter": "python",
   "pygments_lexer": "ipython3",
   "version": "3.8.5"
  }
 },
 "nbformat": 4,
 "nbformat_minor": 5
}
