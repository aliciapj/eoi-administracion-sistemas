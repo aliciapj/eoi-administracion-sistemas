{
 "cells": [
  {
   "cell_type": "markdown",
   "id": "executive-couple",
   "metadata": {
    "slideshow": {
     "slide_type": "slide"
    }
   },
   "source": [
    "# Protocolos de red"
   ]
  },
  {
   "cell_type": "markdown",
   "id": "266a0c07",
   "metadata": {
    "slideshow": {
     "slide_type": "subslide"
    }
   },
   "source": [
    "- Los sistemas de comunicación utilizan formatos bien definidos para intercambiar mensajes. Cada mensaje tiene un significado exacto destinado a obtener una respuesta de un rango de posibles respuestas predeterminadas para esa situación en particular.\n",
    "\n",
    "- Un protocolo de comunicaciones es un sistema de reglas que permiten que dos o más entidades (computadoras, teléfonos celulares, etc.) se comuniquen entre ellas para transmitir información. \n",
    "\n",
    "- Los protocolos pueden ser implementados por hardware, por software, o por una combinación de ambos."
   ]
  },
  {
   "cell_type": "markdown",
   "id": "84d10eeb",
   "metadata": {
    "slideshow": {
     "slide_type": "subslide"
    }
   },
   "source": [
    "Por ejemplo, el protocolo sobre palomas mensajeras permite definir la forma en la que una paloma mensajera transmite información de una ubicación a otra, definiendo todos los aspectos que intervienen en la comunicación: tipo de paloma, cifrado del mensaje, tiempo de espera antes de dar a la paloma por 'perdida'... y cualquier regla que ordene y mejore la comunicación."
   ]
  },
  {
   "cell_type": "markdown",
   "id": "a3d2ae74",
   "metadata": {
    "slideshow": {
     "slide_type": "slide"
    }
   },
   "source": [
    "## Ejemplos de protocolos de red"
   ]
  },
  {
   "cell_type": "markdown",
   "id": "598bc119",
   "metadata": {
    "slideshow": {
     "slide_type": "subslide"
    }
   },
   "source": [
    "### **Protocolo de transferencia de hipertexto - HTTP**  \n",
    "Protocolo de comunicación que permite las transferencias de información a través de archivos (XHML, HTML . . .) en la World Wide Web."
   ]
  },
  {
   "cell_type": "markdown",
   "id": "d779559c",
   "metadata": {
    "slideshow": {
     "slide_type": "subslide"
    }
   },
   "source": [
    "#### Mensajes \n",
    "\n",
    "Los mensajes HTTP son en texto plano y tienen la siguiente estructura:\n",
    "- Línea inicial con\n",
    "  - Para las peticiones: la acción requerida por el servidor (**método de petición**) seguido de la URL del recurso y la versión HTTP que soporta el cliente.\n",
    "  - Para respuestas: La versión del HTTP usado seguido del **código de respuesta** (que indica qué ha pasado con la petición seguido de la URL del recurso) y de la frase asociada a dicho retorno.\n",
    "- Las cabeceras del mensaje que terminan con una línea en blanco. Son **metadatos**. Estas cabeceras le dan gran flexibilidad al protocolo.\n",
    "- Cuerpo del mensaje. Es opcional. Típicamente tiene los datos que se intercambian cliente y servidor."
   ]
  },
  {
   "cell_type": "markdown",
   "id": "22a66d21",
   "metadata": {
    "slideshow": {
     "slide_type": "subslide"
    }
   },
   "source": [
    "#### Métodos de petición\n",
    "- GET: El método GET solicita una representación del recurso especificado. \n",
    "- POST: Envía datos para que sean procesados orientado a la creación de nuevos contenidos\n",
    "- PUT: Envía datos para que sean procesados orientado orientado a la actualización de los mismos\n",
    "- DELETE: Borra el recurso especificado\n",
    "..."
   ]
  },
  {
   "cell_type": "markdown",
   "id": "2aafab9a",
   "metadata": {
    "slideshow": {
     "slide_type": "subslide"
    }
   },
   "source": [
    "#### Códigos de respuesta\n",
    "- Códigos con formato 1xx: Respuestas informativas. Indica que la petición ha sido recibida y se está procesando.\n",
    "- Códigos con formato 2xx: Respuestas correctas. Indica que la petición ha sido procesada correctamente.\n",
    "- Códigos con formato 3xx: Respuestas de redirección. Indica que el cliente necesita realizar más acciones para finalizar la petición.\n",
    "- Códigos con formato 4xx: Errores causados por el cliente. Indica que ha habido un error en el procesado de la petición a causa de que el cliente ha hecho algo mal.\n",
    "- Códigos con formato 5xx: Errores causados por el servidor. Indica que ha habido un error en el procesado de la petición a causa de un fallo en el servidor.\n",
    "\n",
    "[https://http.cat/](https://http.cat/)"
   ]
  },
  {
   "cell_type": "markdown",
   "id": "d435dd36",
   "metadata": {
    "slideshow": {
     "slide_type": "subslide"
    }
   },
   "source": [
    "#### Cabeceras o metadatos\n",
    "- Cabeceras que indican las capacidades aceptadas por el que envía el mensaje: Accept (indica el MIME aceptado), Accept-Charset (indica el código de caracteres aceptado), Accept-Encoding (indica el método de compresión aceptado), Accept-Language (indica el idioma aceptado), User-Agent (para describir al cliente), Server (indica el tipo de servidor), Allow (métodos permitidos para el recurso)\n",
    "- Cabeceras que describen el contenido: Content-Type (indica el MIME del contenido), Content-Length (longitud del mensaje), Content-Range, Content-Encoding, Content-Language, Content-Location.\n",
    "- Cabeceras que hacen referencias a URIs: Location (indica donde está el contenido), Referer (Indica el origen de la petición).\n",
    "- Cabeceras que permiten ahorrar transmisiones: Date (fecha de creación), If-Modified-Since, If-Unmodified-Since, If-Match, If-None-Match, If-Range, Expires, Last-Modified, Cache-Control, Via, Pragma, Etag, Age, Retry-After.\n",
    "- Cabeceras para control de cookies: Set-Cookie, Cookie\n",
    "- Cabeceras para autentificación: Authorization, WW-Authenticate\n",
    "- Cabeceras para describir la comunicación: Host (indica máquina destino del mensaje), Connection (indica como establecer la conexión)\n",
    "- Otras: Range (para descargar solo partes del recurso), Max-Forward (límite de cabeceras añadidas en TRACE)."
   ]
  },
  {
   "cell_type": "markdown",
   "id": "5622d7ca",
   "metadata": {},
   "source": [
    "# Ejercicio: librería `requests` de Python"
   ]
  },
  {
   "cell_type": "markdown",
   "id": "31b9ce99",
   "metadata": {
    "slideshow": {
     "slide_type": "subslide"
    }
   },
   "source": [
    "## Otros protocolos de red"
   ]
  },
  {
   "cell_type": "markdown",
   "id": "fa7050b2",
   "metadata": {
    "slideshow": {
     "slide_type": "fragment"
    }
   },
   "source": [
    "- **HTTPS** - Hypertext Transfer Protocol _(Protocolo seguro de transferencia de hipertexto)_"
   ]
  },
  {
   "cell_type": "markdown",
   "id": "c6279860",
   "metadata": {
    "slideshow": {
     "slide_type": "fragment"
    }
   },
   "source": [
    "- **SMTP** - Simple Mail Transfer Protocol _(Protocolo para transferencia simple de correo)_\n",
    "- **POP3** - Post Office Protocol _(Protocolo de Oficina Postal)_\n",
    "- **IMAP** - Internet Message Access Protocol _(Protocolo de acceso a mensajes de Internet)_"
   ]
  },
  {
   "cell_type": "markdown",
   "id": "bb157ecd",
   "metadata": {},
   "source": [
    "# Ejercicio: módulo `smtplib` de Python\n",
    "https://docs.python.org/3/library/smtplib.html"
   ]
  },
  {
   "cell_type": "markdown",
   "id": "f479051d",
   "metadata": {
    "slideshow": {
     "slide_type": "subslide"
    }
   },
   "source": [
    "- **FTP** - File Transfer Protocol _(Protocolo de transferencia de ficheros)_\n",
    "- **DNS** - Domain Name System (Servicio de nombres de dominio)"
   ]
  },
  {
   "cell_type": "markdown",
   "id": "e75e9e0a",
   "metadata": {},
   "source": [
    "# Ejercicio: módulo `ftplib` de Python\n",
    "https://docs.python.org/3/library/ftplib.html"
   ]
  },
  {
   "cell_type": "markdown",
   "id": "cfba4f99",
   "metadata": {
    "slideshow": {
     "slide_type": "fragment"
    }
   },
   "source": [
    "- **Cable coaxial**, **cable de fibra óptica**, **cable de par trenzado**...\n",
    "- **Red por microondas**\n",
    "- **Red por radio**"
   ]
  },
  {
   "cell_type": "markdown",
   "id": "wrong-accuracy",
   "metadata": {
    "slideshow": {
     "slide_type": "slide"
    }
   },
   "source": [
    "## Modelo OSI\n",
    "\n",
    "- El modelo OSI (Open System Interconnection) fue creado por la ISO y se encarga de la conexión entre sistemas abiertos; esto es, sistemas abiertos a la comunicación con otros sistemas. \n",
    "\n",
    "- Los principios en los que basó su creación eran: una mayor definición de las funciones de cada capa, evitar agrupar funciones diferentes en la misma capa y una mayor simplificación en el funcionamiento del modelo en general."
   ]
  },
  {
   "cell_type": "markdown",
   "id": "a7695bb8",
   "metadata": {
    "slideshow": {
     "slide_type": "subslide"
    }
   },
   "source": [
    "Este modelo divide las funciones de red en siete capas diferenciadas:\n",
    "\n",
    "| # | Capas | Descripción corta | Algunos protocolos |\n",
    "| :-: |:------------- | :----- | :----- |\n",
    "| 1 | Capa física | Estándares de medios físicos | Cable coaxial o UTP, de fibra óptica, microondas |\n",
    "| 2 | Capa de enlace de datos | Qué tamaño tendrán los paquetes, dónde están los nodos | ARP, Ethernet, Token Ring |\n",
    "| 3 | Capa de red | Cómo llevo el paquete de un nodo a otro por el mejor camino | IP, ICMP |\n",
    "| 4 | Capa de transporte | Cómo saber si el paquete ha llegado bien y cómo reenvío si no ha llegado | TCP, UDP | \n",
    "| 5 | Capa de sesión | Cómo hacer la autenticación y reconexiones en los nodos | NetBIOS, SSL\n",
    "| 6 | Capa de presentación | Cómo hacer operaciones en los extremos, como compresión o cifrado | ASN | \n",
    "| 7 | Capa de aplicación | Cómo convertir los datos en crudo en datos que puedan consumir las aplicaciones | FTP, HTTP, POP3... |"
   ]
  },
  {
   "cell_type": "markdown",
   "id": "legal-disease",
   "metadata": {},
   "source": [
    "## Modelo TCP/IP\n",
    "\n",
    "Este modelo es el implantado actualmente a nivel mundial en Internet y redes locales. \n",
    "- **TCP** es el **Protocolo de Control de Transmisión** que permite establecer una conexión y el intercambio de datos entre dos anfitriones. Este protocolo proporciona un transporte fiable de datos.\n",
    "- **IP** o **protocolo de internet**, utiliza direcciones series de cuatro octetos con formato de punto decimal (como por ejemplo 75.4.160.25). Este protocolo lleva los datos a otras máquinas de la red."
   ]
  },
  {
   "attachments": {},
   "cell_type": "markdown",
   "id": "f79f73c1",
   "metadata": {},
   "source": [
    "## Relación entre TCP/IP y OSI\n",
    "![tabla de relación entre modelos](_img/osi-vs-tcpip.png)"
   ]
  },
  {
   "cell_type": "code",
   "execution_count": null,
   "id": "5480b5e9",
   "metadata": {},
   "outputs": [],
   "source": [
    "- Data Link Layer\n",
    "    - MAC (01:10:35 - 01:26:30)\n",
    "- Network Layer\n",
    "    - IP (01:28:10 - 03:29:00)\n",
    "    - NAT (03:29:35 - 03:38:00)\n",
    "- Transport Layer\n",
    "    - Ports (03:39:45 - 04:00:00)\n",
    "        - TCP\n",
    "        - UDP\n",
    "- Application Layer\n",
    "    - DNS Protocol (12:30 - 19:30)\n",
    "        - dig\n",
    "        - RR (Resource Records)\n",
    "    - HTTP (20:40 - 43:05)"
   ]
  }
 ],
 "metadata": {
  "celltoolbar": "Slideshow",
  "kernelspec": {
   "display_name": "Python 3",
   "language": "python",
   "name": "python3"
  },
  "language_info": {
   "codemirror_mode": {
    "name": "ipython",
    "version": 3
   },
   "file_extension": ".py",
   "mimetype": "text/x-python",
   "name": "python",
   "nbconvert_exporter": "python",
   "pygments_lexer": "ipython3",
   "version": "3.8.9"
  }
 },
 "nbformat": 4,
 "nbformat_minor": 5
}
