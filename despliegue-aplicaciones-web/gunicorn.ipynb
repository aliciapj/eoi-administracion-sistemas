{
 "cells": [
  {
   "cell_type": "markdown",
   "id": "transparent-warrior",
   "metadata": {
    "slideshow": {
     "slide_type": "slide"
    }
   },
   "source": [
    "![Logo de Gunicorn](https://upload.wikimedia.org/wikipedia/commons/thumb/0/00/Gunicorn_logo_2010.svg/1280px-Gunicorn_logo_2010.svg.png)"
   ]
  },
  {
   "cell_type": "markdown",
   "id": "african-macro",
   "metadata": {
    "slideshow": {
     "slide_type": "subslide"
    }
   },
   "source": [
    "Gunicorn es un servidor HTTP para sistemas Unix que cumple la especificación WSGI. Nos permite servir nuestra aplicación web con múltiples workers para incrementar el rendimiento de nuestra aplicación."
   ]
  },
  {
   "cell_type": "markdown",
   "id": "dramatic-friday",
   "metadata": {
    "slideshow": {
     "slide_type": "slide"
    }
   },
   "source": [
    "# Recursos\n",
    "- https://docs.gunicorn.org/en/stable/"
   ]
  },
  {
   "cell_type": "markdown",
   "id": "handled-pakistan",
   "metadata": {
    "slideshow": {
     "slide_type": "slide"
    }
   },
   "source": [
    "# Ejercicios\n",
    "- TBI"
   ]
  }
 ],
 "metadata": {
  "celltoolbar": "Slideshow",
  "kernelspec": {
   "display_name": "Python 3",
   "language": "python",
   "name": "python3"
  },
  "language_info": {
   "codemirror_mode": {
    "name": "ipython",
    "version": 3
   },
   "file_extension": ".py",
   "mimetype": "text/x-python",
   "name": "python",
   "nbconvert_exporter": "python",
   "pygments_lexer": "ipython3",
   "version": "3.8.5"
  }
 },
 "nbformat": 4,
 "nbformat_minor": 5
}
