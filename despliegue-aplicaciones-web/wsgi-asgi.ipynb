{
 "cells": [
  {
   "cell_type": "markdown",
   "id": "specialized-spirit",
   "metadata": {
    "slideshow": {
     "slide_type": "slide"
    }
   },
   "source": [
    "# WSGI - ASGI"
   ]
  },
  {
   "cell_type": "markdown",
   "id": "answering-shoulder",
   "metadata": {
    "slideshow": {
     "slide_type": "subslide"
    }
   },
   "source": [
    "WSGI son las siglas de Web Server Gateway Interface. Es una especificación que describe cómo se comunica un servidor web con una aplicación web, y cómo se pueden llegar a encadenar diferentes aplicaciones web para procesar una solicitud/petición (o request).\n",
    "\n",
    "WSGI es un estándar Python que está descrito en detalle en la especificación [PEP 3333](https://www.python.org/dev/peps/pep-3333/)."
   ]
  },
  {
   "cell_type": "markdown",
   "id": "rental-strength",
   "metadata": {
    "slideshow": {
     "slide_type": "slide"
    }
   },
   "source": [
    "# Recursos\n",
    "- https://medium.com/@nachoad/que-es-wsgi-be7359c6e001\n",
    "- https://wsgi.readthedocs.io/en/latest/learn.html"
   ]
  },
  {
   "cell_type": "markdown",
   "id": "interpreted-barrier",
   "metadata": {
    "slideshow": {
     "slide_type": "slide"
    }
   },
   "source": [
    "# Ejercicios\n",
    "- "
   ]
  }
 ],
 "metadata": {
  "celltoolbar": "Slideshow",
  "kernelspec": {
   "display_name": "Python 3",
   "language": "python",
   "name": "python3"
  },
  "language_info": {
   "codemirror_mode": {
    "name": "ipython",
    "version": 3
   },
   "file_extension": ".py",
   "mimetype": "text/x-python",
   "name": "python",
   "nbconvert_exporter": "python",
   "pygments_lexer": "ipython3",
   "version": "3.8.5"
  }
 },
 "nbformat": 4,
 "nbformat_minor": 5
}
