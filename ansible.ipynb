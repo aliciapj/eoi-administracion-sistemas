{
 "cells": [
  {
   "cell_type": "markdown",
   "id": "mighty-asian",
   "metadata": {
    "slideshow": {
     "slide_type": "slide"
    }
   },
   "source": [
    "![Ansible logo](https://upload.wikimedia.org/wikipedia/commons/thumb/2/24/Ansible_logo.svg/245px-Ansible_logo.svg.png)"
   ]
  },
  {
   "cell_type": "markdown",
   "id": "acquired-volunteer",
   "metadata": {
    "slideshow": {
     "slide_type": "subslide"
    }
   },
   "source": [
    "Ansible es una plataforma de software libre para configurar y administrar ordenadores. \n",
    "\n",
    "Combina instalación multi-nodo (es decir: permite desplegar configuraciones de servidores y servicios por lotes), ejecuciones de tareas ad hoc y administración de configuraciones. \n",
    "\n",
    "Adicionalmente, Ansible es categorizado como una herramienta de orquestación.\n",
    "\n",
    "Gestiona nodos a través de SSH y no requiere ningún software remoto adicional (excepto Python 2.4 o posterior) para instalarlo. \n",
    "\n",
    "Dispone de módulos que trabajan sobre JSON y la salida estándar puede ser escrita en cualquier lenguaje. Nativamente utiliza YAML para describir configuraciones reusables de los sistemas"
   ]
  },
  {
   "cell_type": "markdown",
   "id": "noble-hypothetical",
   "metadata": {
    "slideshow": {
     "slide_type": "subslide"
    }
   },
   "source": [
    "## Principales características\n",
    "\n",
    "- Aprovisionamiento\n",
    "- Gestión de la configuración\n",
    "- Despliegue de aplicaciones\n",
    "- Seguridad y Cumplimiento\n",
    "- Orquestación"
   ]
  },
  {
   "cell_type": "markdown",
   "id": "informative-license",
   "metadata": {
    "slideshow": {
     "slide_type": "subslide"
    }
   },
   "source": [
    "## Propósitos\n",
    "\n",
    "- Mínimo por naturaleza. Los sistemas de administración no deben imponer dependencias adicionales.\n",
    "- Consistente.\n",
    "- Seguro. Ansible no instala agentes vulnerables en los nodos. Solamente se requiere OpenSSH que es considerado crítico y altamente comprobado.\n",
    "- Alta confiabilidad. El modelo de idempotencia es aplicado para las instalaciones y configuraciones, para prevenir efectos secundarios en la ejecución repetitiva de guiones (scripts)\n",
    "- Suave curva de aprendizaje. Los playbooks o libretos usan un lenguaje descriptivo simple, basado en YAML."
   ]
  },
  {
   "cell_type": "markdown",
   "id": "wrong-visibility",
   "metadata": {
    "slideshow": {
     "slide_type": "subslide"
    }
   },
   "source": [
    "## Conceptos\n",
    "\n",
    "- **Controladora (servidores)**  \n",
    "Cualquier máquina con Ansible instalado."
   ]
  },
  {
   "cell_type": "markdown",
   "id": "whole-douglas",
   "metadata": {
    "slideshow": {
     "slide_type": "fragment"
    }
   },
   "source": [
    "- **Nodos (clientes)**  \n",
    "Máquinas que serán controladas con Ansible (también llamados _hosts_). Ansible no se instalará en esas máquinas"
   ]
  },
  {
   "cell_type": "markdown",
   "id": "portable-creature",
   "metadata": {
    "slideshow": {
     "slide_type": "fragment"
    }
   },
   "source": [
    "- **Inventario**  \n",
    "Descripción de los nodos que pueden ser accedidos por Ansible. Por defecto se ubica en `/etc/ansible/hosts`. Además, los nodos pueden ser asignados a grupos.  "
   ]
  },
  {
   "cell_type": "markdown",
   "id": "national-nicholas",
   "metadata": {
    "slideshow": {
     "slide_type": "subslide"
    }
   },
   "source": [
    "- **Módulos**  \n",
    "Las unidades de trabajo en Ansible. Cada módulo es autosuficiente e idempotente"
   ]
  },
  {
   "cell_type": "markdown",
   "id": "automotive-centre",
   "metadata": {
    "slideshow": {
     "slide_type": "fragment"
    }
   },
   "source": [
    "- **Tareas**\n",
    "Son las unidades de acción de Ansible, y cada tarea es una llamada a un módulo de Ansible. Las tareas son ejecutadas en orden, de una en una, contra cada máquina que encaja con el patrón del host, para luego seguir con la próxima tarea"
   ]
  },
  {
   "cell_type": "markdown",
   "id": "spread-physics",
   "metadata": {
    "slideshow": {
     "slide_type": "fragment"
    }
   },
   "source": [
    "- **Manual de tácticas o Playbooks**\n",
    "Son listas ordenadas de tareas guardadas en un fichero para poder ejecutarlas múltiples veces. Los libros de jugadas pueden incluir tanto variables como tareas. Están escritos en YAML y deben ser fáciles de leer, escribir, compartir y comprender."
   ]
  },
  {
   "cell_type": "markdown",
   "id": "animal-buyer",
   "metadata": {
    "slideshow": {
     "slide_type": "slide"
    }
   },
   "source": [
    "## Instalación\n",
    "\n",
    "En la terminal de Ubuntu: \n",
    "\n",
    "```\n",
    "sudo apt update\n",
    "sudo apt install software-properties-common\n",
    "sudo apt-add-repository --yes --update ppa:ansible/ansible\n",
    "sudo apt install ansible\n",
    "```\n",
    "\n",
    "Para comprobar que se ha instalado correctamente:\n",
    "```\n",
    "ansible localhost -m ping --ask-pass\n",
    "```"
   ]
  },
  {
   "cell_type": "markdown",
   "id": "ambient-occurrence",
   "metadata": {
    "slideshow": {
     "slide_type": "slide"
    }
   },
   "source": [
    "# Recursos\n",
    "- [Documentación oficial](https://docs.ansible.com/ansible/latest/user_guide/index.html)\n",
    "- https://github.com/geerlingguy/ansible-for-devops\n",
    "- https://github.com/ansible/test-playbooks\n",
    "- https://github.com/ansiblebit\n",
    "- https://docs.ansible.com/ansible/latest/collections/\n",
    "- https://www.atareao.es/tutorial/ansible/\n",
    "- https://ualmtorres.github.io/CursoAnsible/tutorial/"
   ]
  },
  {
   "cell_type": "markdown",
   "id": "integrated-astrology",
   "metadata": {
    "slideshow": {
     "slide_type": "slide"
    }
   },
   "source": [
    "# Ejercicios\n",
    "- TBI"
   ]
  }
 ],
 "metadata": {
  "celltoolbar": "Slideshow",
  "kernelspec": {
   "display_name": "Python 3",
   "language": "python",
   "name": "python3"
  },
  "language_info": {
   "codemirror_mode": {
    "name": "ipython",
    "version": 3
   },
   "file_extension": ".py",
   "mimetype": "text/x-python",
   "name": "python",
   "nbconvert_exporter": "python",
   "pygments_lexer": "ipython3",
   "version": "3.8.5"
  }
 },
 "nbformat": 4,
 "nbformat_minor": 5
}
