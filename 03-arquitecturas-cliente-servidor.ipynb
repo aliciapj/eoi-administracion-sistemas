{
 "cells": [
  {
   "cell_type": "markdown",
   "id": "718f1739",
   "metadata": {
    "slideshow": {
     "slide_type": "slide"
    }
   },
   "source": [
    "# Arquitecturas cliente-servidor"
   ]
  },
  {
   "cell_type": "markdown",
   "id": "f11eb16a",
   "metadata": {
    "slideshow": {
     "slide_type": "slide"
    }
   },
   "source": [
    "## Common Gateway Interface (CGI)\n",
    "- Interfaz de los servidores web que permite intercambiar datos entre los servidores y las aplicaciones externas de manera estandarizada. \n",
    "- Con el CGI, no es necesario que todo el contenido de la página HTML esté disponible en el servidor, sino que este se genera de forma dinámica cuando el usuario realiza la solicitud correspondiente a través de la propia página."
   ]
  },
  {
   "cell_type": "markdown",
   "id": "1fa0686e",
   "metadata": {},
   "source": [
    "**Navegando en la web**\n",
    "\n",
    "Para comprender el concepto de CGI, veamos qué sucede cuando hacemos clic en un enlace para navegar por una página web o URL en particular.\n",
    "\n",
    "- El navegador se pone en contacto con el servidor web HTTP y solicita la URL, es decir, el nombre del archivo.\n",
    "- El servidor web analiza la URL y busca el nombre del archivo. Si encuentra ese archivo, lo devuelve al navegador; de lo contrario, envía un mensaje de error que indica que solicitó un archivo incorrecto.\n",
    "- El navegador web recibe la respuesta del servidor web y muestra el archivo recibido o el mensaje de error."
   ]
  },
  {
   "cell_type": "markdown",
   "id": "2ab4b149",
   "metadata": {},
   "source": [
    "Sin embargo, es posible configurar el servidor HTTP para que cada vez que se solicite un archivo en un directorio determinado, ese archivo no se devuelva y en su lugar, se ejecute un programa, y que lo que genere ese programa se envíe de vuelta para que lo muestre su navegador. \n",
    "\n",
    "Esta función se llama Common Gateway Interface o CGI y los programas se denominan scripts CGI. Estos programas CGI pueden ser un script de Python, un script PERL, un script de Shell, un programa C o C, etc."
   ]
  },
  {
   "cell_type": "markdown",
   "id": "9d79dfe3",
   "metadata": {
    "slideshow": {
     "slide_type": "subslide"
    }
   },
   "source": [
    "![funcionamiento-cgi](https://www.ionos.es/digitalguide/fileadmin/DigitalGuide/Schaubilder/funcionamiento-de-common-gateway-interface.png)"
   ]
  },
  {
   "cell_type": "markdown",
   "id": "61195ed0",
   "metadata": {
    "slideshow": {
     "slide_type": "skip"
    }
   },
   "source": [
    "Usos de Common Gateway Interface\n",
    "- **Cesta de la compra**: cuando un cliente añade algún producto a la cesta de la compra de una tienda en línea, el script CGI procesa esos datos y, luego, los envía al servidor.\n",
    "- **Comentarios**: el usuario rellena un campo de comentarios. Cuando hace clic en “Enviar”, el texto se transmite al script CGI, que, a su vez, lo reenvía al servidor.\n",
    "- **Formularios**: también en el caso de los formularios en línea, como a la hora de enviar algún mensaje o inscribirse en una oferta de trabajo, los datos introducidos son procesados primero por Common Gateway Interface antes de transmitirse al servidor.\n",
    "- **Estadísticas de páginas web**: cuando las páginas web muestran el tráfico que tienen, la tecnología que lo respalda también recurre al CGI en muchos casos.\n",
    "\n",
    "y más"
   ]
  },
  {
   "cell_type": "code",
   "execution_count": null,
   "id": "4bcb9a0b",
   "metadata": {},
   "outputs": [],
   "source": []
  }
 ],
 "metadata": {
  "celltoolbar": "Slideshow",
  "kernelspec": {
   "display_name": "Python 3",
   "language": "python",
   "name": "python3"
  },
  "language_info": {
   "codemirror_mode": {
    "name": "ipython",
    "version": 3
   },
   "file_extension": ".py",
   "mimetype": "text/x-python",
   "name": "python",
   "nbconvert_exporter": "python",
   "pygments_lexer": "ipython3",
   "version": "3.8.5"
  }
 },
 "nbformat": 4,
 "nbformat_minor": 5
}
