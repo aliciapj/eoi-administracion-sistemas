{
 "cells": [
  {
   "cell_type": "markdown",
   "id": "partial-investment",
   "metadata": {
    "slideshow": {
     "slide_type": "slide"
    }
   },
   "source": [
    "![Icono de Vagrant](https://www.vagrantup.com/img/logo-hashicorp.svg)"
   ]
  },
  {
   "cell_type": "markdown",
   "id": "champion-divorce",
   "metadata": {
    "slideshow": {
     "slide_type": "subslide"
    }
   },
   "source": [
    "- Vagrant es una herramienta para la creación y configuración de entornos de desarrollo virtualizados.\n",
    "- Originalmente se desarrolló para VirtualBox y sistemas de configuración tales como Chef, Salt y Puppet.  \n",
    "Sin embargo desde la versión 1.1 Vagrant es capaz de trabajar con múltiples proveedores, como VMware, Amazon EC2, LXC, DigitalOcean, etc.\n",
    "- Aunque Vagrant se ha desarrollado en Ruby se puede usar en multitud de proyectos escritos en otros lenguajes, tales como PHP, Python, Java, C# y JavaScript."
   ]
  },
  {
   "cell_type": "markdown",
   "id": "timely-maintenance",
   "metadata": {
    "slideshow": {
     "slide_type": "subslide"
    }
   },
   "source": [
    "Vagrant es una herramienta gratuita de línea de comandos que crea y configura máquinas virtuales a partir de ficheros de configuración.\n",
    "\n",
    "Basta con compartir el fichero de configuración de Vagrant (llamado “Vagrantfile”) con otro desarrollador para que, con un simple comando, pueda reproducir el mismo entorno de desarrollo. \n",
    "\n",
    "Por defecto, Vagrant utiliza VirtualBox como motor de máquinas virtuales, aunque existe la opción de utilizar VMWare Workstation (Windows) o VMWare Fusion (MacOS X) con un plugin de pago."
   ]
  },
  {
   "cell_type": "markdown",
   "id": "floating-vegetable",
   "metadata": {
    "slideshow": {
     "slide_type": "slide"
    }
   },
   "source": [
    "# Recursos\n",
    "- https://www.vagrantup.com/docs\n",
    "- https://learn.hashicorp.com/vagrant"
   ]
  },
  {
   "cell_type": "markdown",
   "id": "industrial-cologne",
   "metadata": {
    "slideshow": {
     "slide_type": "slide"
    }
   },
   "source": [
    "# Ejercicios\n",
    "\n",
    "- Demo: crea tu primera máquina virtual con Vagrant"
   ]
  }
 ],
 "metadata": {
  "celltoolbar": "Slideshow",
  "kernelspec": {
   "display_name": "Python 3",
   "language": "python",
   "name": "python3"
  },
  "language_info": {
   "codemirror_mode": {
    "name": "ipython",
    "version": 3
   },
   "file_extension": ".py",
   "mimetype": "text/x-python",
   "name": "python",
   "nbconvert_exporter": "python",
   "pygments_lexer": "ipython3",
   "version": "3.8.5"
  }
 },
 "nbformat": 4,
 "nbformat_minor": 5
}
