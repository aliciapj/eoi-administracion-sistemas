{
 "cells": [
  {
   "cell_type": "markdown",
   "id": "wrong-region",
   "metadata": {},
   "source": [
    "# 2 - Ansible: Playbooks"
   ]
  },
  {
   "cell_type": "markdown",
   "id": "liable-assignment",
   "metadata": {},
   "source": [
    "1. Crea una carpeta que se llama `playbooks`\n",
    "```\n",
    "$ mkdir playbooks\n",
    "$ cd playbooks\n",
    "```"
   ]
  },
  {
   "cell_type": "markdown",
   "id": "fossil-complex",
   "metadata": {},
   "source": [
    "2. Crear un fichero que se llame `basics.yml` con el siguiente contenido:\n",
    "\n",
    "```yaml\n",
    "---\n",
    "- hosts: all\n",
    "  tasks:\n",
    "    - name: hacer un ping\n",
    "      ping:\n",
    "        \n",
    "    - name: mostrar el nombre de la máquina\n",
    "      debug:\n",
    "        msg: \"Nombre de la máquina {{ ansible_hostname }}\"\n",
    "```"
   ]
  },
  {
   "cell_type": "markdown",
   "id": "selected-money",
   "metadata": {},
   "source": [
    "3. Ejecutar el playbook con el siguiente comando:\n",
    "```\n",
    "$ ansible-playbook playbooks/basics.yml --ask-pass\n",
    "```\n",
    "   Salida:\n",
    "   \n",
    "```\n",
    "SSH password: \n",
    "```\n",
    "```\n",
    "PLAY [all] ******************************************************************************************************************************************************************************************\n",
    "```\n",
    "```\n",
    "TASK [Gathering Facts] ******************************************************************************************************************************************************************************\n",
    "[DEPRECATION WARNING]: Distribution Ubuntu 18.04 on host 192.168.33.10 should use /usr/bin/python3, but is using /usr/bin/python for backward compatibility with prior Ansible releases. A future \n",
    "Ansible release will default to using the discovered platform python for this host. See https://docs.ansible.com/ansible/2.9/reference_appendices/interpreter_discovery.html for more information. \n",
    "This feature will be removed in version 2.12. Deprecation warnings can be disabled by setting deprecation_warnings=False in ansible.cfg.\n",
    "ok: [192.168.33.10]\n",
    "```\n",
    "```\n",
    "TASK [hacer un ping] ********************************************************************************************************************************************************************************\n",
    "ok: [192.168.33.10]\n",
    "```\n",
    "```\n",
    "TASK [mostrar el nombre de la máquina] **************************************************************************************************************************************************************\n",
    "ok: [192.168.33.10] => {\n",
    "    \"msg\": \"Nombre de la máquina vagrant\"\n",
    "}\n",
    "PLAY RECAP ******************************************************************************************************************************************************************************************\n",
    "192.168.33.10              : ok=3    changed=0    unreachable=0    failed=0    skipped=0    rescued=0    ignored=0 \n",
    "```"
   ]
  }
 ],
 "metadata": {
  "kernelspec": {
   "display_name": "Python 3",
   "language": "python",
   "name": "python3"
  },
  "language_info": {
   "codemirror_mode": {
    "name": "ipython",
    "version": 3
   },
   "file_extension": ".py",
   "mimetype": "text/x-python",
   "name": "python",
   "nbconvert_exporter": "python",
   "pygments_lexer": "ipython3",
   "version": "3.8.5"
  }
 },
 "nbformat": 4,
 "nbformat_minor": 5
}
