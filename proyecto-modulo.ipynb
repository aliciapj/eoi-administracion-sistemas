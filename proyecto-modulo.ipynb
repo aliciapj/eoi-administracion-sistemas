{
 "cells": [
  {
   "cell_type": "markdown",
   "id": "d14dbf24",
   "metadata": {},
   "source": [
    "# Proyecto de fin de módulo"
   ]
  },
  {
   "cell_type": "markdown",
   "id": "2ffd0317",
   "metadata": {},
   "source": [
    "https://realpython.com/automating-django-deployments-with-fabric-and-ansible/"
   ]
  }
 ],
 "metadata": {
  "kernelspec": {
   "display_name": "Python 3",
   "language": "python",
   "name": "python3"
  },
  "language_info": {
   "codemirror_mode": {
    "name": "ipython",
    "version": 3
   },
   "file_extension": ".py",
   "mimetype": "text/x-python",
   "name": "python",
   "nbconvert_exporter": "python",
   "pygments_lexer": "ipython3",
   "version": "3.8.5"
  }
 },
 "nbformat": 4,
 "nbformat_minor": 5
}
