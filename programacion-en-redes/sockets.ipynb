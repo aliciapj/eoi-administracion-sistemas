{
 "cells": [
  {
   "cell_type": "markdown",
   "id": "played-prompt",
   "metadata": {
    "slideshow": {
     "slide_type": "slide"
    }
   },
   "source": [
    "# [Sockets](https://es.wikipedia.org/wiki/Socket_de_Internet)"
   ]
  },
  {
   "cell_type": "markdown",
   "id": "collective-gathering",
   "metadata": {
    "slideshow": {
     "slide_type": "subslide"
    }
   },
   "source": [
    "Socket designa un concepto abstracto por el cual dos procesos (posiblemente situados en computadoras distintas) pueden intercambiar cualquier flujo de datos, generalmente de manera fiable y ordenada.\n",
    "\n",
    "El término socket es también usado como el nombre de una interfaz de programación de aplicaciones (API) para la familia de protocolos de Internet TCP/IP, provista usualmente por el sistema operativo.\n",
    "\n",
    "Los sockets de Internet constituyen el mecanismo para la entrega de paquetes de datos provenientes de la tarjeta de red a los procesos o hilos apropiados. Un socket queda definido por un par de direcciones IP local y remota, un protocolo de transporte y un par de números de puerto local y remoto. "
   ]
  },
  {
   "cell_type": "markdown",
   "id": "marked-breast",
   "metadata": {
    "slideshow": {
     "slide_type": "subslide"
    }
   },
   "source": [
    "Para ello son necesarios los dos recursos que originan el concepto de socket:\n",
    "\n",
    "- Un par de direcciones del protocolo de red (dirección IP, si se utiliza el protocolo TCP/IP), que identifican la computadora de origen y la remota.\n",
    "- Un par de números de puerto, que identifican a un programa dentro de cada computadora."
   ]
  },
  {
   "cell_type": "markdown",
   "id": "involved-sphere",
   "metadata": {
    "slideshow": {
     "slide_type": "subslide"
    }
   },
   "source": [
    "Los sockets permiten implementar una arquitectura cliente-servidor. La comunicación debe ser iniciada por uno de los procesos que se denomina programa \"cliente\". El segundo proceso espera a que otro inicie la comunicación, por este motivo se denomina programa \"servidor\".\n",
    "\n",
    "Un socket es un proceso o hilo existente en la máquina cliente y en la máquina servidora, que sirve en última instancia para que el programa servidor y el cliente lean y escriban la información. Esta información será la transmitida por las diferentes capas de red."
   ]
  },
  {
   "cell_type": "markdown",
   "id": "interior-homeless",
   "metadata": {
    "slideshow": {
     "slide_type": "slide"
    }
   },
   "source": [
    "## Propiedades inherentes a los sockets"
   ]
  },
  {
   "cell_type": "markdown",
   "id": "virgin-thanksgiving",
   "metadata": {
    "slideshow": {
     "slide_type": "subslide"
    }
   },
   "source": [
    "Las propiedades de un socket dependen de las características del protocolo en el que se implementan. El protocolo más utilizado es Transmission Control Protocol; una alternativa común a este es User Datagram Protocol.\n",
    "\n",
    "Cuando se implementan con el protocolo TCP, los sockets tienen las siguientes propiedades:\n",
    "\n",
    "- Son orientados a la conexión.\n",
    "- Se garantiza la transmisión de todos los octetos sin errores ni omisiones.\n",
    "- Se garantiza que todo octeto llegará a su destino en el mismo orden en que se ha transmitido.\n",
    "\n",
    "Estas propiedades son muy importantes para garantizar la corrección de los programas que tratan la información.\n",
    "\n",
    "El protocolo UDP es un protocolo no orientado a la conexión, sin garantía de entrega. En ningún caso se garantiza que llegue o que lleguen todos los mensajes en el mismo orden que se mandaron. Esto lo hace adecuado para el envío de mensajes frecuentes pero no demasiado importantes, como por ejemplo, un streaming de audio. "
   ]
  },
  {
   "cell_type": "markdown",
   "id": "attended-swing",
   "metadata": {
    "slideshow": {
     "slide_type": "slide"
    }
   },
   "source": [
    "## Tipos de sockets\n",
    "### Las propiedades de un socket dependen de las características del protocolo en el que se implementan. \n"
   ]
  },
  {
   "cell_type": "markdown",
   "id": "dimensional-envelope",
   "metadata": {
    "slideshow": {
     "slide_type": "subslide"
    }
   },
   "source": [
    "### Sockets TCP\n",
    "\n",
    "El protocolo más utilizado es *Transmission Control Protocol*, también llamados sockets TCP.\n",
    "\n",
    "Cuando se implementan con el protocolo TCP, los sockets tienen las siguientes propiedades:\n",
    "\n",
    "- Son orientados a la conexión.\n",
    "- Se garantiza la transmisión de todos los octetos sin errores ni omisiones.\n",
    "- Se garantiza que todo octeto llegará a su destino en el mismo orden en que se ha transmitido.\n",
    "\n",
    "Estas propiedades son muy importantes para garantizar la corrección de los programas que tratan la información."
   ]
  },
  {
   "cell_type": "markdown",
   "id": "standard-calculator",
   "metadata": {
    "slideshow": {
     "slide_type": "subslide"
    }
   },
   "source": [
    "### Flujo de un Socket TCP\n",
    "![Flujo de un Socket TCP](https://files.realpython.com/media/sockets-tcp-flow.1da426797e37.jpg) \n",
    "Source: https://realpython.com/python-sockets/"
   ]
  },
  {
   "cell_type": "markdown",
   "id": "mineral-ownership",
   "metadata": {
    "slideshow": {
     "slide_type": "subslide"
    }
   },
   "source": [
    "### Sockets UDP\n",
    "\n",
    "Una alternativa común a los sockets TCP son los que usan el *User Datagram Protocol*.\n",
    "\n",
    "El protocolo UDP es un protocolo no orientado a la conexión, sin garantía de entrega. \n",
    "\n",
    "En ningún caso se garantiza que llegue o que lleguen todos los mensajes en el mismo orden que se mandaron. \n",
    "\n",
    "Esto lo hace adecuado para el envío de mensajes frecuentes pero no demasiado importantes, como por ejemplo, un streaming de audio. "
   ]
  },
  {
   "cell_type": "markdown",
   "id": "coordinate-leisure",
   "metadata": {
    "slideshow": {
     "slide_type": "slide"
    }
   },
   "source": [
    "# Sockets en Python\n",
    "## Librería socket — interfaz de red de bajo nivel"
   ]
  },
  {
   "cell_type": "markdown",
   "id": "ethical-making",
   "metadata": {
    "slideshow": {
     "slide_type": "subslide"
    }
   },
   "source": [
    "Este módulo proporciona acceso a la interfaz BSD socket. Está disponible en todos los sistemas Unix modernos, Windows, MacOS y probablemente plataformas adicionales.\n",
    "\n",
    "Algunos comportamientos pueden depender de la plataforma, ya que las llamadas se realizan a las API de socket del sistema operativo. \n",
    "\n",
    "Documentación de la librería: https://docs.python.org/es/3/library/socket.html"
   ]
  },
  {
   "cell_type": "markdown",
   "id": "packed-scale",
   "metadata": {
    "slideshow": {
     "slide_type": "subslide"
    }
   },
   "source": [
    "Las principales funciones que nos proporciona esta librería son:\n",
    "- `socket()`: Crea un nuevo socket\n",
    "- `bind()`: Vincula el socket a una dirección\n",
    "- `listen()`: Habilita un servidor para aceptar conexiones\n",
    "- `accept()`: Acepta una conexión. El socket debe estar vinculado a una dirección y aceptando conexiones.\n",
    "- `connect()`: Conecta a un socket remoto\n",
    "- `recv()`: Recibe datos del socket\n",
    "- `close()`: Cierra un descriptor de archivo de socket"
   ]
  },
  {
   "cell_type": "code",
   "execution_count": null,
   "id": "bearing-authority",
   "metadata": {
    "slideshow": {
     "slide_type": "subslide"
    }
   },
   "outputs": [],
   "source": [
    "# sockets-demo/server.py\n",
    "import socket\n",
    "\n",
    "HOST = socket.gethostname()\n",
    "PORT = 1234\n",
    "with socket.socket(socket.AF_INET, socket.SOCK_STREAM) as s:\n",
    "    s.bind((HOST, PORT))\n",
    "    s.listen(1)\n",
    "    print('listening')\n",
    "\n",
    "    while True:\n",
    "        conn, addr = s.accept()\n",
    "        with conn:\n",
    "            print('Connected by', addr)\n",
    "\n",
    "            msg = conn.recv(1024)\n",
    "            print(f'Received {msg}')\n",
    "\n",
    "            conn.send(bytes(\"Welcome to the server\", \"utf-8\"))"
   ]
  },
  {
   "cell_type": "code",
   "execution_count": null,
   "id": "aging-million",
   "metadata": {
    "scrolled": true
   },
   "outputs": [],
   "source": [
    "! netstat -an | grep 1234"
   ]
  },
  {
   "cell_type": "code",
   "execution_count": null,
   "id": "fluid-yesterday",
   "metadata": {},
   "outputs": [],
   "source": [
    "! lsof -i -n | grep 1234"
   ]
  },
  {
   "cell_type": "code",
   "execution_count": null,
   "id": "rotary-republic",
   "metadata": {
    "slideshow": {
     "slide_type": "subslide"
    }
   },
   "outputs": [],
   "source": [
    "# sockets-demo/client.py\n",
    "import socket\n",
    "\n",
    "HOST = socket.gethostname()  # The remote host\n",
    "PORT = 1234  # The same port as used by the server\n",
    "\n",
    "with socket.socket(socket.AF_INET, socket.SOCK_STREAM) as s:\n",
    "    s.connect((HOST, PORT))\n",
    "    s.sendall(b'Hello, world')\n",
    "    data = s.recv(1024)\n",
    "\n",
    "print('Received', repr(data))"
   ]
  },
  {
   "cell_type": "markdown",
   "id": "trained-railway",
   "metadata": {
    "slideshow": {
     "slide_type": "slide"
    }
   },
   "source": [
    "# Ejercicio\n",
    "\n",
    "Crear un socket que muestre mensajes por consola como el del ejemplo"
   ]
  },
  {
   "cell_type": "markdown",
   "id": "acceptable-university",
   "metadata": {
    "slideshow": {
     "slide_type": "slide"
    }
   },
   "source": [
    "# Recursos\n",
    "- https://realpython.com/python-sockets/\n",
    "- https://codefellows.github.io/sea-python-401d4/lectures/protocols.html\n",
    "- https://codefellows.github.io/sea-python-401d4/index.html#week-02\n",
    "- https://gist.github.com/joncardasis/cc67cfb160fa61a0457d6951eff2aeae\n"
   ]
  }
 ],
 "metadata": {
  "celltoolbar": "Slideshow",
  "kernelspec": {
   "display_name": "Python 3",
   "language": "python",
   "name": "python3"
  },
  "language_info": {
   "codemirror_mode": {
    "name": "ipython",
    "version": 3
   },
   "file_extension": ".py",
   "mimetype": "text/x-python",
   "name": "python",
   "nbconvert_exporter": "python",
   "pygments_lexer": "ipython3",
   "version": "3.8.5"
  }
 },
 "nbformat": 4,
 "nbformat_minor": 5
}
