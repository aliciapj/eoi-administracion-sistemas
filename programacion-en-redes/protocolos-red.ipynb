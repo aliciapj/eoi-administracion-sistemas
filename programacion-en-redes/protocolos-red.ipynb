{
 "cells": [
  {
   "cell_type": "markdown",
   "id": "executive-couple",
   "metadata": {
    "slideshow": {
     "slide_type": "slide"
    }
   },
   "source": [
    "# [Protocolos de red](https://es.wikipedia.org/wiki/Red_de_computadoras#Protocolos_de_redes)"
   ]
  },
  {
   "cell_type": "markdown",
   "id": "canadian-thanks",
   "metadata": {
    "slideshow": {
     "slide_type": "subslide"
    }
   },
   "source": [
    "Existen diversos protocolos, estándares y modelos que determinan el funcionamiento general de las redes. Destacan el modelo OSI y el TCP/IP. Cada modelo estructura el funcionamiento de una red de manera distinta. El modelo OSI cuenta con siete capas muy definidas y con funciones diferenciadas; el TCP/IP con cuatro capas diferenciadas pero que combinan las funciones existentes en las siete capas del modelo OSI.3​ Los protocolos están repartidos por las diferentes capas pero no están definidos como parte del modelo en sí sino como entidades diferentes de normativas internacionales, de modo que el modelo OSI no puede ser considerado una arquitectura de red4​, y de hecho es sólo una abstracción teórica."
   ]
  },
  {
   "cell_type": "markdown",
   "id": "wrong-accuracy",
   "metadata": {
    "slideshow": {
     "slide_type": "slide"
    }
   },
   "source": [
    "## [Modelo OSI](https://es.wikipedia.org/wiki/Modelo_OSI)\n",
    "\n",
    "El modelo OSI (Open System Interconnection) fue creado por la ISO y se encarga de la conexión entre sistemas abiertos; esto es, sistemas abiertos a la comunicación con otros sistemas. Los principios en los que basó su creación eran: una mayor definición de las funciones de cada capa, evitar agrupar funciones diferentes en la misma capa y una mayor simplificación en el funcionamiento del modelo en general."
   ]
  },
  {
   "cell_type": "markdown",
   "id": "controversial-dynamics",
   "metadata": {
    "slideshow": {
     "slide_type": "subslide"
    }
   },
   "source": [
    "Este modelo divide las funciones de red en siete capas diferenciadas:\n",
    "\n",
    "| # | Capas | Unidad de intercambio | \n",
    "| :-: |:------------- | :----- |\n",
    "| 7 | Capa de aplicación | APDU | \n",
    "| 6 | Capa de presentación | PPDU | \n",
    "| 5 | Capa de sesión | SPDU | \n",
    "| 4 | Capa de transporte | TPDU | \n",
    "| 3 | Capa de red | Paquete de red | \n",
    "| 2 | Capa de enlace de datos | Trama de red (Marco / Trama) | \n",
    "| 1 | Capa física | Bit | "
   ]
  },
  {
   "cell_type": "markdown",
   "id": "legal-disease",
   "metadata": {},
   "source": [
    "## [Modelo TCP/IP](https://es.wikipedia.org/wiki/Familia_de_protocolos_de_internet)\n",
    "\n",
    "Este modelo es el implantado actualmente a nivel mundial: fue primero utilizado en ARPANET y es utilizado actualmente a nivel global en Internet y redes locales. Su nombre deriva de la unión de los nombres de los dos principales protocolos que lo conforman: TCP en la capa de transporte e IP en la capa de red."
   ]
  },
  {
   "cell_type": "markdown",
   "id": "visible-branch",
   "metadata": {},
   "source": [
    "Se compone de cuatro capas:\n",
    "\n",
    "| # | Capas | Unidad de intercambio | \n",
    "| :-: |:------------- | :----- |\n",
    "| 4 | Capa de aplicación | no definido | \n",
    "| 3 | Capa de transporte | Paquete de red | \n",
    "| 2 | Capa de red (red / interred) | no definido (Datagrama) | \n",
    "| 1 | Capa de enlace de datos (enlace / nodo a red) | ?? | "
   ]
  },
  {
   "cell_type": "markdown",
   "id": "functioning-coral",
   "metadata": {},
   "source": [
    "## Otros estándares\n",
    "\n",
    "Existen otros estándares, más concretos, que definen el modo de funcionamiento de diversas tecnologías de transmisión de datos. La siguiente lista no es completa, solo muestra algunos ejemplos:\n",
    "\n",
    "| Tecnología | Estándar | Año de primera publicación |\n",
    "| :- | :-: | :-: |\n",
    "| Ethernet | IEEE 802.3 | 1983 |\n",
    "| Token Ring | IEEE 802.5 | 19706​ |\n",
    "| WLAN | IEEE 802.11 | 19977​ |\n",
    "| Bluetooth | IEEE 802.15 | 20028​ |\n",
    "| FDDI | ISO 9314-x | 1987 |\n",
    "| PPP | RFC 1661 | 19949​ | "
   ]
  }
 ],
 "metadata": {
  "celltoolbar": "Slideshow",
  "kernelspec": {
   "display_name": "Python 3",
   "language": "python",
   "name": "python3"
  },
  "language_info": {
   "codemirror_mode": {
    "name": "ipython",
    "version": 3
   },
   "file_extension": ".py",
   "mimetype": "text/x-python",
   "name": "python",
   "nbconvert_exporter": "python",
   "pygments_lexer": "ipython3",
   "version": "3.8.5"
  }
 },
 "nbformat": 4,
 "nbformat_minor": 5
}