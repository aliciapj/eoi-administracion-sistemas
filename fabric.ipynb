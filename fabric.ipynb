{
 "cells": [
  {
   "cell_type": "markdown",
   "id": "champion-locking",
   "metadata": {
    "slideshow": {
     "slide_type": "slide"
    }
   },
   "source": [
    "# Fabric\n",
    "![Fabric logo](http://www.fabfile.org/_static/logo.png)"
   ]
  },
  {
   "cell_type": "markdown",
   "id": "recognized-committee",
   "metadata": {
    "slideshow": {
     "slide_type": "subslide"
    }
   },
   "source": [
    "Fabric es una librería de alto nivel de Python diseñada para ejecutar comandos de shell de forma remota a través de SSH."
   ]
  },
  {
   "cell_type": "markdown",
   "id": "sexual-antigua",
   "metadata": {
    "slideshow": {
     "slide_type": "subslide"
    }
   },
   "source": [
    "Fabric se basa en otras librerías Python extendiendo sus API para complementarse entre sí y proporcionar funcionalidad adicional:\n",
    "\n",
    "- [Invoke](http://www.pyinvoke.org/) implementa el análisis en cliente, la organización de tareas y la ejecución de comandos de shell (un marco genérico más una implementación específica para comandos locales).\n",
    "\n",
    "    - Toda la funcionalidad que no sea específica de los sistemas remotos tiende a residir en Invoke y, a menudo, los programadores que no necesitan ninguna funcionalidad remota lo utilizan de forma independiente (sin usar Fabric).\n",
    "    - Los usuarios de Fabric importarán con frecuencia objetos de Invoke, en los casos en que Fabric en sí no tenga necesidad de crear una subclase o modificar alguno de los métodos que proporciona Invoke.\n",
    "\n",
    "- [Paramiko](http://www.paramiko.org/) implementa la funcionalidad SSH de nivel bajo / medio: sesiones SSH y SFTP, administración de claves, etc.\n",
    "    - Fabric utiliza Paramiko \"por dentro\"; los usuarios rara vez lo usarán directamente desde Paramiko."
   ]
  },
  {
   "cell_type": "markdown",
   "id": "spoken-breath",
   "metadata": {
    "slideshow": {
     "slide_type": "slide"
    }
   },
   "source": [
    "## Instalación"
   ]
  },
  {
   "cell_type": "code",
   "execution_count": 2,
   "id": "natural-franchise",
   "metadata": {
    "slideshow": {
     "slide_type": "-"
    }
   },
   "outputs": [
    {
     "name": "stdout",
     "output_type": "stream",
     "text": [
      "Collecting fabric\n",
      "  Downloading fabric-2.6.0-py2.py3-none-any.whl (53 kB)\n",
      "\u001b[K     |████████████████████████████████| 53 kB 1.5 MB/s  eta 0:00:01\n",
      "\u001b[?25hCollecting paramiko>=2.4\n",
      "  Downloading paramiko-2.7.2-py2.py3-none-any.whl (206 kB)\n",
      "\u001b[K     |████████████████████████████████| 206 kB 14.2 MB/s eta 0:00:01\n",
      "\u001b[?25hCollecting invoke<2.0,>=1.3\n",
      "  Downloading invoke-1.5.0-py3-none-any.whl (211 kB)\n",
      "\u001b[K     |████████████████████████████████| 211 kB 26.7 MB/s eta 0:00:01\n",
      "\u001b[?25hCollecting pathlib2\n",
      "  Downloading pathlib2-2.3.5-py2.py3-none-any.whl (18 kB)\n",
      "Collecting pynacl>=1.0.1\n",
      "  Downloading PyNaCl-1.4.0-cp35-abi3-manylinux1_x86_64.whl (961 kB)\n",
      "\u001b[K     |████████████████████████████████| 961 kB 27.3 MB/s eta 0:00:01\n",
      "\u001b[?25hRequirement already satisfied: cryptography>=2.5 in /home/alicia/workspace/eoi/eoi-administracion-sistemas/.venv/lib/python3.8/site-packages (from paramiko>=2.4->fabric) (3.4.7)\n",
      "Collecting bcrypt>=3.1.3\n",
      "  Downloading bcrypt-3.2.0-cp36-abi3-manylinux2010_x86_64.whl (63 kB)\n",
      "\u001b[K     |████████████████████████████████| 63 kB 2.7 MB/s s eta 0:00:01\n",
      "\u001b[?25hRequirement already satisfied: six in /home/alicia/workspace/eoi/eoi-administracion-sistemas/.venv/lib/python3.8/site-packages (from pathlib2->fabric) (1.15.0)\n",
      "Requirement already satisfied: cffi>=1.4.1 in /home/alicia/workspace/eoi/eoi-administracion-sistemas/.venv/lib/python3.8/site-packages (from pynacl>=1.0.1->paramiko>=2.4->fabric) (1.14.5)\n",
      "Requirement already satisfied: pycparser in /home/alicia/workspace/eoi/eoi-administracion-sistemas/.venv/lib/python3.8/site-packages (from cffi>=1.4.1->pynacl>=1.0.1->paramiko>=2.4->fabric) (2.20)\n",
      "Installing collected packages: pynacl, bcrypt, paramiko, invoke, pathlib2, fabric\n",
      "Successfully installed bcrypt-3.2.0 fabric-2.6.0 invoke-1.5.0 paramiko-2.7.2 pathlib2-2.3.5 pynacl-1.4.0\n"
     ]
    }
   ],
   "source": [
    "! pip install fabric"
   ]
  },
  {
   "cell_type": "markdown",
   "id": "equivalent-property",
   "metadata": {
    "slideshow": {
     "slide_type": "slide"
    }
   },
   "source": [
    "# Ejemplos de código\n",
    "(Arranca la máquina virtual con Vagrant)"
   ]
  },
  {
   "cell_type": "code",
   "execution_count": 12,
   "id": "environmental-athletics",
   "metadata": {
    "slideshow": {
     "slide_type": "subslide"
    }
   },
   "outputs": [
    {
     "name": "stdout",
     "output_type": "stream",
     "text": [
      "vagrant\n",
      "Command exited with status 0.\n",
      "=== stdout ===\n",
      "vagrant\n",
      "\n",
      "(no stderr)\n"
     ]
    }
   ],
   "source": [
    "from fabric.connection import Connection\n",
    "\n",
    "vhost_conn = Connection('vagrant@192.168.33.10', connect_kwargs={\"password\": \"vagrant\"})\n",
    "result = vhost_conn.run('hostname')\n",
    "print(result)"
   ]
  },
  {
   "cell_type": "code",
   "execution_count": 17,
   "id": "given-panic",
   "metadata": {
    "slideshow": {
     "slide_type": "subslide"
    }
   },
   "outputs": [
    {
     "name": "stdout",
     "output_type": "stream",
     "text": [
      "3%\n"
     ]
    }
   ],
   "source": [
    "# Mostrar el espacio en disco libre \n",
    "def disk_free(c):\n",
    "    uname = c.run('uname -s', hide=True)\n",
    "    if 'Linux' in uname.stdout:\n",
    "        command = \"df -h / | tail -n1 | awk '{print $5}'\"\n",
    "        return c.run(command, hide=True).stdout.strip()\n",
    "    err = f\"No idea how to get disk space on {uname}!\"\n",
    "    raise Exit(err)\n",
    "\n",
    "print(disk_free(vhost_conn))"
   ]
  },
  {
   "cell_type": "markdown",
   "id": "devoted-litigation",
   "metadata": {
    "slideshow": {
     "slide_type": "slide"
    }
   },
   "source": [
    "# Recursos\n",
    "- https://docs.fabfile.org/en/2.6/getting-started.html"
   ]
  },
  {
   "cell_type": "markdown",
   "id": "committed-movie",
   "metadata": {
    "slideshow": {
     "slide_type": "slide"
    }
   },
   "source": [
    "# Ejercicios\n",
    "- TBI"
   ]
  }
 ],
 "metadata": {
  "celltoolbar": "Slideshow",
  "kernelspec": {
   "display_name": "Python 3",
   "language": "python",
   "name": "python3"
  },
  "language_info": {
   "codemirror_mode": {
    "name": "ipython",
    "version": 3
   },
   "file_extension": ".py",
   "mimetype": "text/x-python",
   "name": "python",
   "nbconvert_exporter": "python",
   "pygments_lexer": "ipython3",
   "version": "3.8.5"
  }
 },
 "nbformat": 4,
 "nbformat_minor": 5
}
