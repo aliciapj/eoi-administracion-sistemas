{
 "cells": [
  {
   "cell_type": "markdown",
   "id": "1616ce73",
   "metadata": {
    "slideshow": {
     "slide_type": "slide"
    }
   },
   "source": [
    "# Contenedores & Orquestación\n",
    "![contenedores](https://images.unsplash.com/photo-1595587637401-83ff822bd63e?ixid=MnwxMjA3fDB8MHxwaG90by1wYWdlfHx8fGVufDB8fHx8&ixlib=rb-1.2.1&auto=format&fit=crop&w=1000&q=80)"
   ]
  },
  {
   "cell_type": "markdown",
   "id": "c25e1d4f",
   "metadata": {
    "slideshow": {
     "slide_type": "subslide"
    }
   },
   "source": [
    "## Virtualización y Contenedores\n",
    "- Virtualización: un sistema operativo completo funcionando de manera aislada sobre otro sistema operativo completo. \n",
    "- Contenedores: comparten los recursos del propio sistema operativo \"host\" sobre el que se ejecutan."
   ]
  },
  {
   "cell_type": "markdown",
   "id": "1e1ef3f1",
   "metadata": {
    "slideshow": {
     "slide_type": "subslide"
    }
   },
   "source": [
    "## Orchestration\n",
    "- Automatización que permite procesos y flujos de trabajo como el aprovisionamiento de recursos. \n",
    "- La orquestación trata de dejar de ser constructores para ser directores de orquesta, donde cada pieza sabe qué tiene que hacer y el director solo dice cuándo y cómo hacerlo."
   ]
  },
  {
   "cell_type": "markdown",
   "id": "7ad8046b",
   "metadata": {
    "slideshow": {
     "slide_type": "notes"
    }
   },
   "source": [
    "**Beneficios**\n",
    "- Mejora la escalabilidad - los recursos se pueden aumentar o disminuir fácilmente\n",
    "- Mejora la estabilidad del sistema\n",
    "- Ahorra tiempo - automatiza tareas y workflows\n",
    "- Auto-servicio - se puede ofrecer a los usuarios\n",
    "- Mucha información acerca del uso de los recursos"
   ]
  },
  {
   "cell_type": "markdown",
   "id": "3c7282ec",
   "metadata": {
    "slideshow": {
     "slide_type": "slide"
    }
   },
   "source": [
    "# Administración centrada en contenedores"
   ]
  },
  {
   "cell_type": "markdown",
   "id": "ff80ad46",
   "metadata": {
    "slideshow": {
     "slide_type": "subslide"
    }
   },
   "source": [
    "**¿Qué es un contenedor software?**\n",
    "\n",
    "- Es una unidad de software estándar que empaqueta código para que la aplicación se desarrolle y ejecute de forma rápida y segura. \n",
    "- Además, también permite su paso de un entorno informático a otro, con gran agilidad (se acabó el \"en mi máquina funciona' )"
   ]
  },
  {
   "cell_type": "markdown",
   "id": "88e1f48b",
   "metadata": {
    "slideshow": {
     "slide_type": "notes"
    }
   },
   "source": [
    "Se trata de un avance importante a la hora de agilizar el despliegue de aplicaciones. No obstante, hay que tener en cuenta factores que pueden obstaculizarlo, como la disponibilidad de distinto software, que la topología de red sea diferente o que las políticas de seguridad y almacenamiento sean distintas.\n",
    "\n",
    "Esto es posible gracias a que los contenedores disponen de un entorno de ejecución que consta de la aplicación más todas sus dependencias, incluidos los archivos de configuración necesarios para ejecutarla, bibliotecas, herramientas de sistema, código y tiempo de ejecución, agrupadas en un único paquete. Al estar todo contenido en este paquete, se eliminan las diferencias que puedan darse en las distintas distribuciones y la infraestructura subyacente."
   ]
  },
  {
   "cell_type": "markdown",
   "id": "168bfc13",
   "metadata": {
    "slideshow": {
     "slide_type": "subslide"
    }
   },
   "source": [
    "![por qué usar contenedores](https://d33wubrfki0l68.cloudfront.net/e7b766e0175f30ae37f7e0e349b87cfe2034a1ae/3e391/images/docs/why_containers.svg)"
   ]
  },
  {
   "cell_type": "markdown",
   "id": "9b57e7ae",
   "metadata": {
    "slideshow": {
     "slide_type": "notes"
    }
   },
   "source": [
    "Beneficios de usar contenedores:\n",
    "\n",
    "- **Ágil creación y despliegue de aplicaciones**: Mayor facilidad y eficiencia al crear imágenes de contenedor en vez de máquinas virtuales\n",
    "- **Desarrollo, integración y despliegue continuo**: Permite que la imagen de contenedor se construya y despliegue de forma frecuente y confiable, facilitando los rollbacks pues la imagen es inmutable\n",
    "- **Separación de tareas entre Dev y Ops**: Puedes crear imágenes de contenedor al momento de compilar y no al desplegar, desacoplando la aplicación de la infraestructura\n",
    "- **Observabilidad**: No solamente se presenta la información y métricas del sistema operativo, sino la salud de la aplicación y otras señales\n",
    "- **Consistencia entre los entornos de desarrollo, pruebas y producción**: La aplicación funciona igual en un laptop y en la nube\n",
    "- **Portabilidad entre nubes y distribuciones**: Funciona en Ubuntu, RHEL, CoreOS, tu datacenter físico, Google Kubernetes Engine y todo lo demás\n",
    "- **Administración centrada en la aplicación**: Eleva el nivel de abstracción del sistema operativo y el hardware virtualizado a la aplicación que funciona en un sistema con recursos lógicos\n",
    "- **Microservicios distribuidos, elásticos, liberados y débilmente acoplados**: Las aplicaciones se separan en piezas pequeñas e independientes que pueden ser desplegadas y administradas de forma dinámica, y no como una aplicación monolítica que opera en una sola máquina de gran capacidad\n",
    "- **Aislamiento de recursos**: Hace el rendimiento de la aplicación más predecible\n",
    "- **Utilización de recursos**: Permite mayor eficiencia y densidad"
   ]
  },
  {
   "cell_type": "markdown",
   "id": "bc87a619",
   "metadata": {
    "slideshow": {
     "slide_type": "slide"
    }
   },
   "source": [
    "![docker logo](https://www.docker.com/sites/default/files/d8/2019-07/horizontal-logo-monochromatic-white.png)"
   ]
  },
  {
   "cell_type": "markdown",
   "id": "4927d5a0",
   "metadata": {
    "slideshow": {
     "slide_type": "subslide"
    }
   },
   "source": [
    "Docker es un programa que ejecuta operaciones de virtualización a nivel del sistema operativo conocido como **por contenedores**.\n",
    "\n",
    "> **¿qué no es Docker?**  \n",
    "Docker no es un software como VirtualBox o VMWare, es decir no es una maquina virtual con la que podemos ir salvando el estado de un sistema operativo virtualizado. No es un sistema operativo montado sobre otro. En lugar de utilizar este enfoque, Docker utiliza el kernel del sistema operativo host, y ahorra así una mayor cantidad de recursos de RAM y CPU."
   ]
  },
  {
   "cell_type": "markdown",
   "id": "4156759c",
   "metadata": {
    "slideshow": {
     "slide_type": "notes"
    }
   },
   "source": [
    "En la mayoría de las empresas, el desarrollo, despliegue y la entrega de software es un proceso con varios pasos bien diferenciados:\n",
    "\n",
    "- El primer paso es el diseño de la aplicación.\n",
    "- El segundo es el desarrollo de la misma, escribiendo el código.\n",
    "- El tercer paso es montar el código en un entorno de pruebas y probarlo.\n",
    "- El cuarto y último paso consiste en empaquetar la aplicación probada, desplegarla y entregarla a los usuarios.\n",
    "\n",
    "La única parte del proceso de desarrollo de software con contenedores Docker que realmente supone un gran cambio es en el último paso\n",
    "\n",
    "Ventaja de usar docker:\n",
    "- Solo se tiene que programar la aplicación una sola vez (es multiplataforma)\n",
    "- Se obtiene una mayor consistencia entre los entornos de prueba y los entornos de producción\n",
    "- Se obtiene mayor modularidad (está más enfocado a microservicios) "
   ]
  },
  {
   "cell_type": "markdown",
   "id": "d562e2b4",
   "metadata": {
    "slideshow": {
     "slide_type": "subslide"
    }
   },
   "source": [
    "### Instalación\n",
    "- En Windows: https://docs.docker.com/docker-for-windows/install/\n",
    "- En Mac: https://docs.docker.com/docker-for-mac/install/\n",
    "- En Ubuntu: https://docs.docker.com/engine/install/ubuntu/"
   ]
  },
  {
   "cell_type": "markdown",
   "id": "6d6fd2dc",
   "metadata": {
    "slideshow": {
     "slide_type": "subslide"
    }
   },
   "source": [
    "## Tutorial"
   ]
  },
  {
   "cell_type": "markdown",
   "id": "3ffbf91e",
   "metadata": {
    "slideshow": {
     "slide_type": "subslide"
    }
   },
   "source": [
    "**1. Crear una aplicación de ejemplo con flask**\n",
    "\n",
    "Sige los pasos a continuación para crear una aplicación flask muy sencilla llamada `python-docker`:\n",
    "\n",
    "```bash\n",
    "# crea la carpeta del proyecto \n",
    "mkdir python-docker\n",
    "cd python-docker\n",
    "\n",
    "# crea un entorno virtual\n",
    "python -m venv .venv\n",
    "source .venv/bin/active\n",
    "\n",
    "# instala flask y crea un fichero requirements\n",
    "pip3 install flask\n",
    "pip3 freeze > requirements.txt\n",
    "\n",
    "# crea la app flask\n",
    "touch app.py\n",
    "vi app.py\n",
    "```"
   ]
  },
  {
   "cell_type": "markdown",
   "id": "8cd69d36",
   "metadata": {
    "slideshow": {
     "slide_type": "subslide"
    }
   },
   "source": [
    "En el fichero `app.py` copia el siguiente contenido:\n",
    "```python\n",
    "from flask import Flask\n",
    "app = Flask(__name__)\n",
    "\n",
    "@app.route('/')\n",
    "def hello_world():\n",
    "    return 'Hello, Docker!'\n",
    "```"
   ]
  },
  {
   "cell_type": "markdown",
   "id": "e68f2413",
   "metadata": {
    "slideshow": {
     "slide_type": "subslide"
    }
   },
   "source": [
    "Ejecuta la aplicación flask y comprueba que funciona en el navegador:\n",
    "\n",
    "```bash\n",
    "python3 -m flask run\n",
    "```\n",
    "\n",
    "Ve a [http://localhost:5000/](http://localhost:5000/)"
   ]
  },
  {
   "cell_type": "markdown",
   "id": "4ddd5e7e",
   "metadata": {
    "slideshow": {
     "slide_type": "subslide"
    }
   },
   "source": [
    "----------\n",
    "**2. Crear la imagen**\n",
    "\n",
    "Crea un fichero llamado `Dockerfile` en la raíz del proyecto:\n",
    "\n",
    "```bash\n",
    "touch Dockerfile\n",
    "```"
   ]
  },
  {
   "cell_type": "markdown",
   "id": "2caf19c1",
   "metadata": {},
   "source": [
    "En el fichero ve añadiendo el siguiente contenido:\n",
    "\n",
    "- La primera línea será la directiva de sintaxis. Aunque es opcional, esta línea le indica a Docker qué sintaxis debe usar para leer el fichero Dockerfile, y permite a las versiones más antiguas que sigan funcionando. En nuestro caso pondremos la versión 1\n",
    "\n",
    "```\n",
    "# syntax=docker/dockerfile:1\n",
    "```"
   ]
  },
  {
   "cell_type": "markdown",
   "id": "03283c1e",
   "metadata": {},
   "source": [
    "- Las imágenes de docker pueden heredar el comportamiento base de otras imágenes. Esto es útil porque así nos podemos ahorrar las tareas más básicas de montar el entorno, como por ejemplo, instalar Python. En nuestro caso, utilizaremos la imagen `python:3.9-slim-buster` (puedes ver todas las imágenes de python disponibles [aquí](https://hub.docker.com/_/python) y en concreto qué esta haciendo la `python:3.9-slim-buster` [aquí](https://github.com/docker-library/python/blob/d9ab222fcd828888b102e3581c03931eac344097/3.9/buster/slim/Dockerfile)\n",
    "\n",
    "```\n",
    "FROM python:3.9-slim-buster\n",
    "```"
   ]
  },
  {
   "cell_type": "markdown",
   "id": "00aab8b2",
   "metadata": {},
   "source": [
    "- A continuación le diremos a Docker cuál es el directorio de trabajo, en nuestro caso `/app`\n",
    "\n",
    "```\n",
    "WORKDIR /app\n",
    "```"
   ]
  },
  {
   "cell_type": "markdown",
   "id": "614078fd",
   "metadata": {},
   "source": [
    "- Ahora tenemos que preparar el entorno de ejecución. Para ello, vamos a copiar el fichero `requirements.txt` a la imagen para posteriormente instalar todas las dependencias necesarias\n",
    "\n",
    "```\n",
    "COPY requirements.txt requirements.txt\n",
    "RUN pip3 install -r requirements.txt\n",
    "```"
   ]
  },
  {
   "cell_type": "markdown",
   "id": "410b330e",
   "metadata": {},
   "source": [
    "- Ahora copiaremos los ficheros de código a la imágen. Si el código estuviera subido a un repo, podríamos descargarlo directamente de Github. Por ahora, copiaremos todo el contenido del directorio a la imagen de Docker con el siguiente comando:\n",
    "\n",
    "```\n",
    "COPY . .\n",
    "```"
   ]
  },
  {
   "cell_type": "markdown",
   "id": "68073a94",
   "metadata": {},
   "source": [
    "- Y por último, arranca la aplicación flask:\n",
    "\n",
    "```\n",
    "CMD [ \"python3\", \"-m\" , \"flask\", \"run\", \"--host=0.0.0.0\"]  \n",
    "```"
   ]
  },
  {
   "cell_type": "markdown",
   "id": "df89521a",
   "metadata": {},
   "source": [
    "El fichero `Dockerfile` debería haber quedado así\n",
    "\n",
    "```\n",
    "# syntax=docker/dockerfile:1\n",
    "\n",
    "FROM python:3.8-slim-buster\n",
    "\n",
    "WORKDIR /app\n",
    "\n",
    "COPY requirements.txt requirements.txt\n",
    "RUN pip3 install -r requirements.txt\n",
    "\n",
    "COPY . .\n",
    "\n",
    "CMD [ \"python3\", \"-m\" , \"flask\", \"run\", \"--host=0.0.0.0\"]\n",
    "```"
   ]
  },
  {
   "cell_type": "markdown",
   "id": "02efd7a1",
   "metadata": {},
   "source": [
    "Para construir la imagen a partir del fichero que acabas de crear, ejecuta el siguiente comando en la consola:\n",
    "\n",
    "```bash\n",
    "docker build --tag python-docker .\n",
    "```\n",
    "salida:\n",
    "```\n",
    "[+] Building 2.7s (10/10) FINISHED\n",
    " => [internal] load build definition from Dockerfile\n",
    " => => transferring dockerfile: 203B\n",
    " => [internal] load .dockerignore\n",
    " => => transferring context: 2B\n",
    " => [internal] load metadata for docker.io/library/python:3.8-slim-buster\n",
    " => [1/6] FROM docker.io/library/python:3.8-slim-buster\n",
    " => [internal] load build context\n",
    " => => transferring context: 953B\n",
    " => CACHED [2/6] WORKDIR /app\n",
    " => [3/6] COPY requirements.txt requirements.txt\n",
    " => [4/6] RUN pip3 install -r requirements.txt\n",
    " => [5/6] COPY . .\n",
    " => [6/6] CMD [ \"python3\", \"-m\", \"flask\", \"run\", \"--host=0.0.0.0\"]\n",
    " => exporting to image\n",
    " => => exporting layers\n",
    " => => writing image sha256:8cae92a8fbd6d091ce687b71b31252056944b09760438905b726625831564c4c\n",
    " => => naming to docker.io/library/python-docker\n",
    " ```"
   ]
  },
  {
   "cell_type": "markdown",
   "id": "00a5d813",
   "metadata": {},
   "source": [
    "Para ver las imágenes que están generadas en tu máquina, puedes ejecutar el siguiente comando:\n",
    "\n",
    "```bash\n",
    "docker images\n",
    "```\n",
    "salida:\n",
    "```\n",
    "REPOSITORY      TAG               IMAGE ID       CREATED         SIZE\n",
    "python-docker   latest            8cae92a8fbd6   3 minutes ago   123MB\n",
    "python          3.8-slim-buster   be5d294735c6   9 days ago      113MB\n",
    "```"
   ]
  },
  {
   "cell_type": "markdown",
   "id": "ef51eada",
   "metadata": {},
   "source": [
    "----------\n",
    "**3. Correr la imagen en un contenedor**\n",
    "\n",
    "Para lanzar el contenedor a partir de la imagen que acabamos de crear, ejecuta el siguiente comando en la consola:\n",
    "\n",
    "```bash\n",
    "docker run python-docker\n",
    "```"
   ]
  },
  {
   "cell_type": "markdown",
   "id": "74e726b2",
   "metadata": {},
   "source": [
    "Si accedes a la url de la aplicación flask en el navegador, comprobarás que no puedes acceder a ella. También puedes comprobarlo con el siguiente comando de `curl`:\n",
    "\n",
    "```bash\n",
    "curl localhost:5000\n",
    "```\n",
    "salida:\n",
    "```\n",
    "curl: (7) Failed to connect to localhost port 5000: Connection refused\n",
    "```"
   ]
  },
  {
   "cell_type": "markdown",
   "id": "9fe6dbbb",
   "metadata": {},
   "source": [
    "Esto es porque la aplicación ha sido arrancada en un entorno aislado, fuera de la red local. Para que sea visible en nuestra red local, tenemos que parar el contenedor y lanzalo con el parámetro `--publish`\n",
    "\n",
    "```bash\n",
    "docker run --publish 5000:5000 python-docker\n",
    "```\n",
    "\n",
    "Ahora debería funcionar:\n",
    "```bash\n",
    "curl localhost:5000\n",
    "```\n",
    "salida:\n",
    "```\n",
    "Hello, Docker!\n",
    "```"
   ]
  },
  {
   "cell_type": "markdown",
   "id": "e469030d",
   "metadata": {},
   "source": [
    "Pero como puedes ver en la consola, el proceso se queda abierto. Lo ideal sería que se quedase corriendo en segundo plano y pudieramos gestionarlo de forma asíncrona.\n",
    "\n",
    "Para ello, para el worker y arráncalo en segundo plano con el siguiente comando:\n",
    "\n",
    "```bash\n",
    "docker run -d -p 5000:5000 python-docker\n",
    "```\n",
    "salida:\n",
    "```\n",
    "648c686c1e8e8e9cab76f748675630f11bc61c07d7da9219c3527a8676a84976 \n",
    "```\n",
    "\n",
    "> Comprueba que la aplicación sigue funcionando en tu navegador o usando `curl`\n"
   ]
  },
  {
   "cell_type": "markdown",
   "id": "de86fa5d",
   "metadata": {},
   "source": [
    "- Para comprobar los contenedores que están ejecutándose en la máquina:\n",
    "    \n",
    "```bash\n",
    "docker ps\n",
    "```\n",
    "salida:\n",
    "```\n",
    "CONTAINER ID        IMAGE               COMMAND                  CREATED             STATUS              PORTS                    NAMES\n",
    "ce02b3179f0f        python-docker         \"python3 -m flask ru…\"   6 minutes ago       Up 6 minutes        0.0.0.0:5000->5000/tcp   wonderful_kalam\n",
    "```"
   ]
  },
  {
   "cell_type": "markdown",
   "id": "b7230c02",
   "metadata": {},
   "source": [
    "- Para parar un contenedor activo (utiliza el campo `NAMES` del `docker ps`:\n",
    "\n",
    "```bash\n",
    "docker stop wonderful_kalam\n",
    "```"
   ]
  },
  {
   "cell_type": "markdown",
   "id": "2c05c0ac",
   "metadata": {},
   "source": [
    "- Para reiniciarlo:\n",
    "\n",
    "```\n",
    "docker restart wonderful_kalam\n",
    "```"
   ]
  },
  {
   "cell_type": "markdown",
   "id": "124bdfb8",
   "metadata": {},
   "source": [
    "- Para eliminar un contenedor:\n",
    "```\n",
    "docker rm wonderful_kalam\n",
    "```"
   ]
  },
  {
   "cell_type": "markdown",
   "id": "86d8c5ba",
   "metadata": {},
   "source": [
    "# Kubernetes"
   ]
  },
  {
   "cell_type": "markdown",
   "id": "5c7ef684",
   "metadata": {},
   "source": [
    "- Es una plataforma portable y extensible de código abierto para administrar cargas de trabajo y servicios. \n",
    "- Ofrece un entorno de administración centrado en contenedores. \n",
    "- Orquesta la infraestructura de cómputo, redes y almacenamiento para que las cargas de trabajo de los usuarios no tengan que hacerlo. Esto ofrece la simplicidad de las Plataformas como Servicio (PaaS) con la flexibilidad de la Infraestructura como Servicio (IaaS) y permite la portabilidad entre proveedores de infraestructura"
   ]
  },
  {
   "cell_type": "markdown",
   "id": "843287d5",
   "metadata": {
    "slideshow": {
     "slide_type": "slide"
    }
   },
   "source": [
    "# Siguientes pasos en Administración de Sistemas\n",
    "![camino](https://images.unsplash.com/photo-1439396874305-9a6ba25de6c6?ixid=MnwxMjA3fDB8MHxwaG90by1wYWdlfHx8fGVufDB8fHx8&ixlib=rb-1.2.1&auto=format&fit=crop&w=1000&q=80)"
   ]
  },
  {
   "cell_type": "markdown",
   "id": "ea1fbf0a",
   "metadata": {
    "slideshow": {
     "slide_type": "subslide"
    }
   },
   "source": [
    "# Miniproyecto!"
   ]
  }
 ],
 "metadata": {
  "celltoolbar": "Slideshow",
  "kernelspec": {
   "display_name": "Python 3",
   "language": "python",
   "name": "python3"
  },
  "language_info": {
   "codemirror_mode": {
    "name": "ipython",
    "version": 3
   },
   "file_extension": ".py",
   "mimetype": "text/x-python",
   "name": "python",
   "nbconvert_exporter": "python",
   "pygments_lexer": "ipython3",
   "version": "3.8.5"
  }
 },
 "nbformat": 4,
 "nbformat_minor": 5
}
