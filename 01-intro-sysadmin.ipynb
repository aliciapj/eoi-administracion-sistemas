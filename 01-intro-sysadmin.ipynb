{
 "cells": [
  {
   "cell_type": "markdown",
   "id": "worthy-regard",
   "metadata": {
    "slideshow": {
     "slide_type": "slide"
    }
   },
   "source": [
    "# Administración de sistemas\n",
    "<img src=\"_img/portada-sysadmin.jpg\" alt=\"foto stock ordenador\" width=\"500\" height=\"34   00\">\n",
    "<div style=\"text-align: right\"><small>Photo by <a href=\"https://unsplash.com/@sadswim?utm_source=unsplash&utm_medium=referral&utm_content=creditCopyText\">ian dooley</a> on <a href=\"https://unsplash.com/s/photos/work?utm_source=unsplash&utm_medium=referral&utm_content=creditCopyText\">Unsplash</a>\n",
    "  </small></div>"
   ]
  },
  {
   "cell_type": "markdown",
   "id": "e0b829c3",
   "metadata": {
    "slideshow": {
     "slide_type": "slide"
    }
   },
   "source": [
    "# ¿Quien es un SysAdmin?\n",
    "\n",
    "<img src=\"_img/sysadmin.jpg\" alt=\"Muñeco freak\" width=\"500\" height=\"300\">\n",
    "<div style=\"text-align: right\"><small>Photo by <a href=\"https://unsplash.com/@giorgiotrovato?utm_source=unsplash&utm_medium=referral&utm_content=creditCopyText\">Giorgio Trovato</a> on <a href=\"https://unsplash.com/s/photos/nerd?utm_source=unsplash&utm_medium=referral&utm_content=creditCopyText\">Unsplash</a>\n",
    "  </small></div>"
   ]
  },
  {
   "cell_type": "markdown",
   "id": "7880fe41",
   "metadata": {
    "slideshow": {
     "slide_type": "fragment"
    }
   },
   "source": [
    "- Persona que tiene la responsabilidad de implementar, configurar, mantener, monitorizar, documentar y asegurar el correcto funcionamiento de un sistema informático, o algún aspecto de este."
   ]
  },
  {
   "cell_type": "markdown",
   "id": "dd5e8261",
   "metadata": {
    "slideshow": {
     "slide_type": "fragment"
    }
   },
   "source": [
    "- Tiene por objeto garantizar el tiempo de actividad (uptime), rendimiento, uso de recursos y la seguridad de los servidores que administra de forma dinámica."
   ]
  },
  {
   "cell_type": "markdown",
   "id": "531a07c9",
   "metadata": {
    "slideshow": {
     "slide_type": "fragment"
    }
   },
   "source": [
    "- El día del Administrador de Sistemas Informáticos: 30 de julio  \n",
    "(Se celebra el último viernes de julio desde el año 2000)"
   ]
  },
  {
   "cell_type": "markdown",
   "id": "90fe4757",
   "metadata": {
    "slideshow": {
     "slide_type": "subslide"
    }
   },
   "source": [
    "![Sistema informatico](https://upload.wikimedia.org/wikipedia/commons/d/dc/Operating_system_placement-es.svg)"
   ]
  },
  {
   "cell_type": "markdown",
   "id": "d6c9be82",
   "metadata": {
    "slideshow": {
     "slide_type": "subslide"
    }
   },
   "source": [
    "## El sistema"
   ]
  },
  {
   "cell_type": "markdown",
   "id": "f6e7bbbe",
   "metadata": {
    "slideshow": {
     "slide_type": "fragment"
    }
   },
   "source": [
    "Un sistema informático es un sistema que permite almacenar y procesar información; es el conjunto de partes interrelacionadas: **software**, **hardware** y **personal informático**."
   ]
  },
  {
   "cell_type": "markdown",
   "id": "8cae7fb9",
   "metadata": {
    "slideshow": {
     "slide_type": "fragment"
    }
   },
   "source": [
    "- El **software** incluye al sistema operativo, firmware y aplicaciones. "
   ]
  },
  {
   "cell_type": "markdown",
   "id": "09d53bac",
   "metadata": {
    "slideshow": {
     "slide_type": "fragment"
    }
   },
   "source": [
    "- El **hardware** incluye computadoras o cualquier tipo de dispositivo electrónico(procesadores, memoria, sistemas de almacenamiento externo...)"
   ]
  },
  {
   "cell_type": "markdown",
   "id": "d663ffa5",
   "metadata": {
    "slideshow": {
     "slide_type": "fragment"
    }
   },
   "source": [
    "- El **personal informático** incluye al personal técnico que apoya y mantienen el sistema (analistas, programadores, operarios, etc.) y a los usuarios que lo utilizan."
   ]
  },
  {
   "cell_type": "markdown",
   "id": "72c18e45",
   "metadata": {
    "slideshow": {
     "slide_type": "slide"
    }
   },
   "source": [
    "# Software\n",
    "\n",
    "- **Software de sistema**: Sistemas operativos, controladores de dispositivos, herramientas de diagnóstico, herramientas de corrección y optimización, servidores, utilidades"
   ]
  },
  {
   "cell_type": "markdown",
   "id": "ff24aae9",
   "metadata": {
    "slideshow": {
     "slide_type": "fragment"
    }
   },
   "source": [
    "- **Software de programación**: Editores de texto, compiladores, intérpretes, enlazadores, depuradores, entornos de desarrollo integrados (IDE)"
   ]
  },
  {
   "cell_type": "markdown",
   "id": "ab449343",
   "metadata": {
    "slideshow": {
     "slide_type": "fragment"
    }
   },
   "source": [
    "- **Software de aplicación**: Aplicaciones ofimáticas, software educativo, empresarial, bases de datos, videojuegos, software de cálculo numérico y simbólico..."
   ]
  },
  {
   "cell_type": "markdown",
   "id": "e1d06f10",
   "metadata": {
    "slideshow": {
     "slide_type": "subslide"
    }
   },
   "source": [
    "## Introducción a Linux - Ubuntu\n",
    "<div style=\"text-align: right\"><small><a href=\"https://www.digitalocean.com/community/tutorial_series/getting-started-with-linux\">Getting Started with Linux</a> by Digital Ocean</small></div>"
   ]
  },
  {
   "cell_type": "markdown",
   "id": "d561befa",
   "metadata": {
    "slideshow": {
     "slide_type": "subslide"
    }
   },
   "source": [
    "### Actividad: Instalar Virtual box y arrancar una máquina con Ubuntu"
   ]
  },
  {
   "cell_type": "markdown",
   "id": "f721f534",
   "metadata": {
    "slideshow": {
     "slide_type": "subslide"
    }
   },
   "source": [
    "### The Command Prompt\n",
    "\n",
    "```\n",
    "sammy@webapp:~$\n",
    "```\n",
    "Here is a breakdown of the composition of the command prompt:\n",
    "\n",
    "- sammy: The username of the current user\n",
    "- webapp: The hostname of the server\n",
    "- ~: The current directory. In bash, which is the default shell, the ~, or tilde, is a special character that expands to the path of the current user’s home directory; in this case, it represents /home/sammy\n",
    "- $: The prompt symbol. This denotes the end of the command prompt, after which the user’s"
   ]
  },
  {
   "cell_type": "markdown",
   "id": "eab9ccc3",
   "metadata": {
    "slideshow": {
     "slide_type": "subslide"
    }
   },
   "source": [
    "### Executing Commands\n",
    "\n",
    "```\n",
    "ls -la /home\n",
    "```\n",
    "\n",
    "ls is the command, -la are the options, and /home is the argument that indicates which file or directory to list. This should print a detailed listing of the /home directory, which should contain the home directories of all of the normal users on the server\n",
    "\n",
    "`man` for the user manual on the command"
   ]
  },
  {
   "cell_type": "markdown",
   "id": "9db97fc0",
   "metadata": {
    "slideshow": {
     "slide_type": "subslide"
    }
   },
   "source": [
    "### Environment Variables\n",
    "\n",
    "To view all of the environment variables that are set for a particular terminal session, run the env command:\n",
    "```\n",
    "env\n",
    "```\n",
    "\n",
    "View the Value of a Variable\n",
    "```\n",
    "echo $PATH\n",
    "cd $HOME\n",
    "```\n",
    "\n",
    "Set an env variable\n",
    "```\n",
    "VAR=value\n",
    "export PATH=$PATH:/opt/app/bin\n",
    "```"
   ]
  },
  {
   "cell_type": "markdown",
   "id": "206819ef",
   "metadata": {
    "slideshow": {
     "slide_type": "subslide"
    }
   },
   "source": [
    "### Basic Linux Navigation\n",
    "To find out where your home directory is in relationship to the rest of the filesystem, you can use the pwd command. This command displays the directory that we are currently in:\n",
    "\n",
    "```\n",
    "pwd\n",
    "```\n",
    "\n",
    "Looking at the Contents of Directories with “ls”\n",
    "```\n",
    "ls\n",
    "ls -l\n",
    "ls -a\n",
    "```"
   ]
  },
  {
   "cell_type": "markdown",
   "id": "046fa200",
   "metadata": {
    "slideshow": {
     "slide_type": "subslide"
    }
   },
   "source": [
    "### Moving Around the Filesystem with “cd”\n",
    "```\n",
    "cd /usr/share\n",
    "cd en/LC_MESSAGES\n",
    "cd ..\n",
    "cd\n",
    "```"
   ]
  },
  {
   "cell_type": "markdown",
   "id": "6689549b",
   "metadata": {
    "slideshow": {
     "slide_type": "subslide"
    }
   },
   "source": [
    "### Viewing Files\n",
    "```\n",
    "less /etc/services\n",
    "cat /etc/services\n",
    "tail -f /etc/services\n",
    "```"
   ]
  },
  {
   "cell_type": "markdown",
   "id": "b91a8df5",
   "metadata": {
    "slideshow": {
     "slide_type": "subslide"
    }
   },
   "source": [
    "### File and Directory Manipulation\n",
    "\n",
    "Create a File with “touch”\n",
    "```\n",
    "cd\n",
    "touch file1\n",
    "```\n",
    "\n",
    "\n",
    "```\n",
    "touch /home/demo/file2 /home/demo/file3\n",
    "ls\n",
    "```\n"
   ]
  },
  {
   "cell_type": "markdown",
   "id": "8c0e6699",
   "metadata": {
    "slideshow": {
     "slide_type": "subslide"
    }
   },
   "source": [
    "### Create a Directory with “mkdir”\n",
    "```\n",
    "cd\n",
    "mkdir test\n",
    "mkdir test/example\n",
    "mkdir -p some/other/directories\n",
    "```"
   ]
  },
  {
   "cell_type": "markdown",
   "id": "10a1f586",
   "metadata": {
    "slideshow": {
     "slide_type": "subslide"
    }
   },
   "source": [
    "### Moving and Renaming Files and Directories with “mv”\n",
    "```\n",
    "mv file1 test\n",
    "cd\n",
    "mv test/file1 .\n",
    "mv test testing\n",
    "```"
   ]
  },
  {
   "cell_type": "markdown",
   "id": "93aed0b5",
   "metadata": {
    "slideshow": {
     "slide_type": "subslide"
    }
   },
   "source": [
    "### Copying Files and Directories with “cp”\n",
    "cp file3 file4\n",
    "cp -r some again\n",
    "cp file1 again"
   ]
  },
  {
   "cell_type": "markdown",
   "id": "83f26756",
   "metadata": {
    "slideshow": {
     "slide_type": "subslide"
    }
   },
   "source": [
    "### Removing Files and Directories with “rm” and “rmdir”\n",
    "```\n",
    "cd\n",
    "rm file4\n",
    "rmdir testing/example\n",
    "rm -r again\n",
    "```"
   ]
  },
  {
   "cell_type": "markdown",
   "id": "7b7c495e",
   "metadata": {
    "slideshow": {
     "slide_type": "subslide"
    }
   },
   "source": [
    "### Editing Files\n",
    "```\n",
    "cd\n",
    "nano file1\n",
    "```\n",
    "\n",
    "```\n",
    "cd\n",
    "vi file1\n",
    "```"
   ]
  },
  {
   "cell_type": "markdown",
   "id": "a4c8843c",
   "metadata": {
    "slideshow": {
     "slide_type": "slide"
    }
   },
   "source": [
    "# Hardware"
   ]
  },
  {
   "cell_type": "markdown",
   "id": "98f8edea",
   "metadata": {
    "slideshow": {
     "slide_type": "subslide"
    }
   },
   "source": [
    "- **CPU**: encargada de interpretar y ejecutar instrucciones y de procesar datos"
   ]
  },
  {
   "cell_type": "markdown",
   "id": "8e871c69",
   "metadata": {
    "slideshow": {
     "slide_type": "fragment"
    }
   },
   "source": [
    "- **Memoria RAM**: para el almacenamiento transitorio y de trabajo (no masivo)"
   ]
  },
  {
   "cell_type": "markdown",
   "id": "41794645",
   "metadata": {
    "slideshow": {
     "slide_type": "fragment"
    }
   },
   "source": [
    "- **Periféricos**: unidades o dispositivos para comunicarse con el exterior (entrada / salida)"
   ]
  },
  {
   "cell_type": "markdown",
   "id": "c22f0e53",
   "metadata": {
    "slideshow": {
     "slide_type": "fragment"
    }
   },
   "source": [
    "- **Tarjetas gráficas**: realizar los cálculos asociados a operaciones gráficas, liberando así al procesador principal (CPU)"
   ]
  },
  {
   "cell_type": "markdown",
   "id": "cbe8c80f",
   "metadata": {
    "slideshow": {
     "slide_type": "fragment"
    }
   },
   "source": [
    "- **Placa base**: soporte fundamental que aloja y comunica a todos los demás componentes"
   ]
  },
  {
   "cell_type": "markdown",
   "id": "0bd86c02",
   "metadata": {
    "slideshow": {
     "slide_type": "skip"
    }
   },
   "source": [
    "| Unidad central de procesamiento (CPU) |   |\n",
    "| :------------------------------------ |:- |\n",
    "| - Es el encargado de interpretar y ejecutar instrucciones y de procesar datos.<br><br>- En los computadores modernos, la función de la CPU la realiza uno o más microprocesadores. | <img align=\"right\" width=\"500\" height=\"500\" src=\"https://upload.wikimedia.org/wikipedia/commons/thumb/3/3f/AMD_Ryzen_7_1800X.jpg/800px-AMD_Ryzen_7_1800X.jpg\"> |\n"
   ]
  },
  {
   "cell_type": "markdown",
   "id": "86544287",
   "metadata": {
    "slideshow": {
     "slide_type": "skip"
    }
   },
   "source": [
    "| Memoria RAM |   |\n",
    "| :---------- |:- |\n",
    "| - Es la memoria utilizada en una computadora para el almacenamiento transitorio y de trabajo (no masivo).<br><br> - En la RAM se almacena temporalmente la información, datos y programas que la Unidad de Procesamiento (CPU) lee, procesa y ejecuta. | <img align=\"right\" width=\"500\" height=\"500\" src=\"https://upload.wikimedia.org/wikipedia/commons/thumb/a/ac/RamTypes.JPG/1920px-RamTypes.JPG\"> |"
   ]
  },
  {
   "cell_type": "markdown",
   "id": "2cb47b4c",
   "metadata": {
    "slideshow": {
     "slide_type": "skip"
    }
   },
   "source": [
    "| Periféricos |   |\n",
    "| :---------- |:- |\n",
    "| **Dispositivos de entrada de información**<br>Teclado, ratón, escáner, micrófono, cámara web, lectores ópticos de código de barras, Joystick, lector de CD, DVD o BluRay... | <img align=\"right\" width=\"200\" height=\"200\" src=\"https://upload.wikimedia.org/wikipedia/commons/thumb/4/41/Chicony_Wireless_Keyboard_KBR0108.jpg/800px-Chicony_Wireless_Keyboard_KBR0108.jpg\"> |\n",
    "| **Dispositivos de salida de información**<br>Monitores clásicos (no de pantalla táctil), las impresoras, los altavoces... | <img align=\"right\" width=\"200\" height=\"200\" src=\"https://upload.wikimedia.org/wikipedia/commons/thumb/3/3a/Canon_S520_ink_jet_printer.jpg/792px-Canon_S520_ink_jet_printer.jpg\"> |\n",
    "| **Dispositivos mixtos**<br>- Dispositivos de almacenamiento masivo (disco duro)<br>- Pendrives, memorias flash, memoria USB o a las unidades de estado sólido (SSD)<br>- Tarjetas de red, módems, tarjetas de captura/salida de vídeo | <img align=\"right\" width=\"200\" height=\"200\" src=\"https://upload.wikimedia.org/wikipedia/commons/thumb/f/f8/Laptop-hard-drive-exposed.jpg/1280px-Laptop-hard-drive-exposed.jpg\"> |"
   ]
  },
  {
   "cell_type": "markdown",
   "id": "a96e8772",
   "metadata": {
    "slideshow": {
     "slide_type": "skip"
    }
   },
   "source": [
    "| Tarjetas gráficas |   |\n",
    "| :---------------- |:- |\n",
    "| - Disponen de su propia memoria y unidad de procesamiento, esta última llamada unidad de procesamiento gráfico (o GPU, siglas en inglés de Graphics Processing Unit)<br><br>- El objetivo básico de la GPU es realizar los cálculos asociados a operaciones gráficas, liberando así al procesador principal (CPU) de esa costosa tarea (en tiempo) para que este pueda efectuar otras funciones en forma más eficiente.  | <img align=\"right\" width=\"500\" height=\"500\" src=\"https://upload.wikimedia.org/wikipedia/commons/thumb/9/9a/HD4670.JPG/1280px-HD4670.JPG\"> |"
   ]
  },
  {
   "cell_type": "markdown",
   "id": "2df0be3d",
   "metadata": {
    "slideshow": {
     "slide_type": "skip"
    }
   },
   "source": [
    "| Placa base |   |\n",
    "| :--------- |:- |\n",
    "| - Es un gran circuito impreso sobre el que se suelda el chipset, las ranuras de expansión (slots), los zócalos, conectores, diversos circuitos integrados, etc.<br><br>- Es el soporte fundamental que aloja y comunica a todos los demás componentes: microprocesador, módulos de memoria RAM, tarjetas gráficas, tarjetas de expansión, periféricos de entrada y salida. | <img align=\"right\" width=\"500\" height=\"500\" src=\"https://upload.wikimedia.org/wikipedia/commons/thumb/1/10/Asus_A8N-VM_CSM_Rev1.10G_20060626a.jpg/645px-Asus_A8N-VM_CSM_Rev1.10G_20060626a.jpg\"> |"
   ]
  },
  {
   "cell_type": "markdown",
   "id": "53a8e3f4",
   "metadata": {
    "slideshow": {
     "slide_type": "subslide"
    }
   },
   "source": [
    "## Hardware\n",
    "\n",
    "[Todos a sli.do!](https://app.sli.do/event/y9hufeh6)\n",
    "\n",
    "<img width=\"400\" height=\"400\" src=\"https://upload.wikimedia.org/wikipedia/commons/thumb/4/41/Personal_computer%2C_exploded_5.svg/1024px-Personal_computer%2C_exploded_5.svg.png\">"
   ]
  },
  {
   "cell_type": "markdown",
   "id": "bb31187f",
   "metadata": {
    "slideshow": {
     "slide_type": "slide"
    }
   },
   "source": [
    "## Virtualización\n",
    "![virtualización de máquinas](https://upload.wikimedia.org/wikipedia/commons/6/6e/Virtualization.JPG)"
   ]
  },
  {
   "cell_type": "markdown",
   "id": "25f72161",
   "metadata": {
    "slideshow": {
     "slide_type": "subslide"
    }
   },
   "source": [
    "- En Informática, la virtualización es la creación a través de software de una representación (versión virtual) de algún recurso tecnológico.\n",
    "- La virtualización es la base de la computación en la nube ya que el software de virtualización es el que ofrece los servicios de la nube a través de la red. Estos software de virtualización alojan instancias (máquinas virtuales, contenedores,...) que ofrecen los servicios."
   ]
  },
  {
   "cell_type": "markdown",
   "id": "5fe33d35",
   "metadata": {
    "slideshow": {
     "slide_type": "subslide"
    }
   },
   "source": [
    "### Vagrant\n",
    "- Vagrant es una herramienta para la creación y configuración de entornos de desarrollo virtualizados.\n",
    "- Originalmente se desarrolló para VirtualBox y sistemas de configuración tales como Chef, Salt y Puppet.  \n",
    "Sin embargo desde la versión 1.1 Vagrant es capaz de trabajar con múltiples proveedores, como VMware, Amazon EC2, LXC, DigitalOcean, etc.\n",
    "- Aunque Vagrant se ha desarrollado en Ruby se puede usar en multitud de proyectos escritos en otros lenguajes, tales como PHP, Python, Java, C# y JavaScript."
   ]
  },
  {
   "cell_type": "markdown",
   "id": "bb890bd5",
   "metadata": {
    "slideshow": {
     "slide_type": "skip"
    }
   },
   "source": [
    "Vagrant es una herramienta gratuita de línea de comandos que crea y configura máquinas virtuales a partir de ficheros de configuración.\n",
    "\n",
    "Basta con compartir el fichero de configuración de Vagrant (llamado “Vagrantfile”) con otro desarrollador para que, con un simple comando, pueda reproducir el mismo entorno de desarrollo. \n",
    "\n",
    "Por defecto, Vagrant utiliza VirtualBox como motor de máquinas virtuales, aunque existe la opción de utilizar VMWare Workstation (Windows) o VMWare Fusion (MacOS X) con un plugin de pago."
   ]
  },
  {
   "cell_type": "markdown",
   "id": "54d03fec",
   "metadata": {
    "slideshow": {
     "slide_type": "skip"
    }
   },
   "source": [
    "**Recursos de vagrant**\n",
    "- https://www.vagrantup.com/docs\n",
    "- https://learn.hashicorp.com/vagrant"
   ]
  },
  {
   "cell_type": "markdown",
   "id": "75e08bdf",
   "metadata": {
    "slideshow": {
     "slide_type": "slide"
    }
   },
   "source": [
    "## Ejercicio de virtualización con Vagrant!\n",
    "Ve a [ejercicios/vagrant-config.ipynb](ejercicios/vagrant-config.ipynb)"
   ]
  },
  {
   "cell_type": "markdown",
   "id": "9f3ef14d",
   "metadata": {
    "slideshow": {
     "slide_type": "subslide"
    }
   },
   "source": [
    "## Comandos en Ubuntu para monitorizar hardware\n",
    "![screenshot de wsl](_img/wsl-screenshot.png)"
   ]
  },
  {
   "cell_type": "markdown",
   "id": "6585021e",
   "metadata": {
    "slideshow": {
     "slide_type": "subslide"
    }
   },
   "source": [
    "- `htop` : administrador de tareas en terminal\n",
    "- `lshw`: para dar información del hardware del equipo (incluso en formato web!)\n",
    "- `lscpu`: para ver las características de la CPU\n",
    "- `free`: muestra el estado de la memoria RAM del sistema\n",
    "- `df`: report file system disk space usage\n",
    "- `uptime`: para saber cuanto tiempo lleva el sistema encendido\n",
    "- `netstat`: muestra información de las conexiones de red (el más importante)\n",
    "- `ping`: send ICMP ECHO_REQUEST to network hosts\n",
    "- `ifconfig`: configure a network interface"
   ]
  },
  {
   "cell_type": "markdown",
   "id": "f1cc0110",
   "metadata": {
    "slideshow": {
     "slide_type": "slide"
    }
   },
   "source": [
    "# Soporte a usuarios - Permisos y grupos"
   ]
  },
  {
   "cell_type": "markdown",
   "id": "600827da",
   "metadata": {
    "slideshow": {
     "slide_type": "subslide"
    }
   },
   "source": [
    "- Linux is a multi-user system. \n",
    "- We must understand the basics of Linux users and groups before we can talk about ownership and permissions, because they are the entities that the ownership and permissions apply to.\n",
    "- Two type of users in Linux:\n",
    "  - system users and \n",
    "  - regular users"
   ]
  },
  {
   "cell_type": "markdown",
   "id": "e7607a78",
   "metadata": {
    "slideshow": {
     "slide_type": "subslide"
    }
   },
   "source": [
    "### Ver usuarios del sistema\n",
    "```\n",
    "cat /etc/passwd\n",
    "```"
   ]
  },
  {
   "cell_type": "markdown",
   "id": "15174b7f",
   "metadata": {
    "slideshow": {
     "slide_type": "subslide"
    }
   },
   "source": [
    "### Ver grupos del sistema\n",
    "```\n",
    "cat /etc/group\n",
    "```"
   ]
  },
  {
   "cell_type": "markdown",
   "id": "dea77325",
   "metadata": {
    "slideshow": {
     "slide_type": "subslide"
    }
   },
   "source": [
    "### Permisos del sistema\n",
    "- **Read**: Indicated by an r in the first position\n",
    "- **Write**: Indicated by a w in the second position\n",
    "- **Execute**: Indicated by an x in the third position. In some special cases, there may be a different character here\n"
   ]
  },
  {
   "cell_type": "markdown",
   "id": "28d1afdd",
   "metadata": {
    "slideshow": {
     "slide_type": "subslide"
    }
   },
   "source": [
    "### Permisos\n",
    "\n",
    "In Linux, each and every file is owned by a single user and a single group, and has its own access permissions\n",
    "```\n",
    "ls -l\n",
    "```\n",
    "![screenshot permissions](https://assets.digitalocean.com/articles/linux_basics/ls-l.png)"
   ]
  },
  {
   "cell_type": "markdown",
   "id": "4d234466",
   "metadata": {
    "slideshow": {
     "slide_type": "subslide"
    }
   },
   "source": [
    "![grupos y letras](https://assets.digitalocean.com/articles/linux_basics/mode.png)"
   ]
  },
  {
   "cell_type": "markdown",
   "id": "3d5e06ce",
   "metadata": {
    "slideshow": {
     "slide_type": "subslide"
    }
   },
   "source": [
    "### Examples of Modes (and Permissions)\n",
    "- -rw-------: A file that is only accessible by its owner\n",
    "- -rwxr-xr-x: A file that is executable by every user on the system. A “world-executable” file\n",
    "- -rw-rw-rw-: A file that is open to modification by every user on the system. A “world-writable” file\n",
    "- drwxr-xr-x: A directory that every user on the system can read and access\n",
    "- drwxrwx---: A directory that is modifiable (including its contents) by its owner and group\n",
    "- drwxr-x---: A directory that is accessible by its group"
   ]
  },
  {
   "cell_type": "markdown",
   "id": "0b8d9451",
   "metadata": {
    "slideshow": {
     "slide_type": "subslide"
    }
   },
   "source": [
    "## Add / remove users\n",
    "```\n",
    "adduser\n",
    "deluser\n",
    "```"
   ]
  },
  {
   "cell_type": "markdown",
   "id": "f84b82c9",
   "metadata": {
    "slideshow": {
     "slide_type": "subslide"
    }
   },
   "source": [
    "## Add / revoke permissions\n",
    "```\n",
    "chmod\n",
    "chown\n",
    "chgrp\n",
    "```"
   ]
  }
 ],
 "metadata": {
  "celltoolbar": "Slideshow",
  "kernelspec": {
   "display_name": "Python 3",
   "language": "python",
   "name": "python3"
  },
  "language_info": {
   "codemirror_mode": {
    "name": "ipython",
    "version": 3
   },
   "file_extension": ".py",
   "mimetype": "text/x-python",
   "name": "python",
   "nbconvert_exporter": "python",
   "pygments_lexer": "ipython3",
   "version": "3.8.5"
  }
 },
 "nbformat": 4,
 "nbformat_minor": 5
}
